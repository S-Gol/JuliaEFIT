{
 "cells": [
  {
   "cell_type": "code",
   "execution_count": 4,
   "source": [
    "eq415 = \"c23,41*dv1l + c23,42*dv2b + c23,43*dv3u\"\r\n",
    "\r\n",
    "split(replace(eq415,\" \"=>\"\"),\"+\")"
   ],
   "outputs": [
    {
     "output_type": "execute_result",
     "data": {
      "text/plain": [
       "3-element Vector{SubString{String}}:\n",
       " \"c23,41*dv1l \"\n",
       " \" c23,42*dv2b \"\n",
       " \" c23,43*dv3u\""
      ]
     },
     "metadata": {},
     "execution_count": 4
    }
   ],
   "metadata": {}
  }
 ],
 "metadata": {
  "orig_nbformat": 4,
  "language_info": {
   "file_extension": ".jl",
   "name": "julia",
   "mimetype": "application/julia",
   "version": "1.7.2"
  },
  "kernelspec": {
   "name": "julia-1.7",
   "display_name": "Julia 1.7.2",
   "language": "julia"
  }
 },
 "nbformat": 4,
 "nbformat_minor": 2
}