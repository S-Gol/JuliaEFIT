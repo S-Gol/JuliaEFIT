{
 "cells": [
  {
   "cell_type": "code",
   "execution_count": 15,
   "metadata": {},
   "outputs": [
    {
     "name": "stderr",
     "output_type": "stream",
     "text": [
      "WARNING: replacing module EFIT.\n",
      "WARNING: replacing module ARBSCATT.\n"
     ]
    },
    {
     "data": {
      "text/plain": [
       "Main.ARBSCATT"
      ]
     },
     "metadata": {},
     "output_type": "display_data"
    }
   ],
   "source": [
    "using Revise\n",
    "include(\"EFITModule/EFIT.jl\")\n",
    "include(\"EFITModule/ARBSCATT.jl\")\n"
   ]
  },
  {
   "cell_type": "code",
   "execution_count": 16,
   "metadata": {},
   "outputs": [],
   "source": [
    "matGrid, params = Main.ARBSCATT.loadARBSCATT(\"TestFiles\");"
   ]
  },
  {
   "cell_type": "code",
   "execution_count": 20,
   "metadata": {},
   "outputs": [
    {
     "name": "stdout",
     "output_type": "stream",
     "text": [
      "Creating grid of size 867, 716, 1431\n"
     ]
    }
   ],
   "source": [
    "materials = [Main.EFIT.IsoMats[\"lightweightGeneric\"],Main.EFIT.IsoMats[\"steel\"]]\n",
    "\n",
    "c = 8000\n",
    "#Frequency, hz\n",
    "f0=1e6\n",
    "#Period\n",
    "t0 = 1.00 / f0\n",
    "\n",
    "dx = c/(8*f0)\n",
    "dt = dx/(c*sqrt(3))\n",
    "\n",
    "\n",
    "grid = Main.EFIT.EFITGrid(matGrid.+1,materials,dt,dx);"
   ]
  },
  {
   "cell_type": "code",
   "execution_count": 21,
   "metadata": {},
   "outputs": [
    {
     "data": {
      "text/plain": [
       "source (generic function with 1 method)"
      ]
     },
     "metadata": {},
     "output_type": "display_data"
    }
   ],
   "source": [
    "function source(t)\n",
    "    v = exp(-((2*(t-2*t0)/(t0))^2))*sin(2*pi*f0*t)*0.1\n",
    "    return Data.Number(v)\n",
    "end"
   ]
  },
  {
   "cell_type": "code",
   "execution_count": 22,
   "metadata": {},
   "outputs": [
    {
     "name": "stdout",
     "output_type": "stream",
     "text": [
      "10 of 500\n",
      "20 of 500\n",
      "30 of 500\n",
      "40 of 500\n",
      "50 of 500\n",
      "60 of 500\n",
      "70 of 500\n",
      "80 of 500\n",
      "90 of 500\n",
      "100 of 500\n",
      "110 of 500\n",
      "120 of 500\n",
      "130 of 500\n",
      "140 of 500\n",
      "150 of 500\n",
      "160 of 500\n",
      "170 of 500\n",
      "180 of 500\n",
      "190 of 500\n",
      "200 of 500\n",
      "210 of 500\n",
      "220 of 500\n",
      "230 of 500\n",
      "240 of 500\n",
      "250 of 500\n",
      "260 of 500\n",
      "270 of 500\n",
      "280 of 500\n",
      "290 of 500\n",
      "300 of 500\n",
      "310 of 500\n",
      "320 of 500\n",
      "330 of 500\n",
      "340 of 500\n",
      "350 of 500\n",
      "360 of 500\n",
      "370 of 500\n",
      "380 of 500\n",
      "390 of 500\n",
      "400 of 500\n",
      "410 of 500\n",
      "420 of 500\n",
      "430 of 500\n",
      "440 of 500\n",
      "450 of 500\n",
      "460 of 500\n",
      "470 of 500\n",
      "480 of 500\n",
      "490 of 500\n",
      "500 of 500\n"
     ]
    }
   ],
   "source": [
    "sx = 715\n",
    "sy = 358\n",
    "sz = 866\n",
    "r = 45\n",
    "\n",
    "rx = sx-r:sx+r\n",
    "ry = sy-r:sy+r\n",
    "rz = sz:sz\n",
    "\n",
    "nSteps = 500\n",
    "for i = 1:nSteps\n",
    "    if i % 10 == 0\n",
    "        println(\"$i of $nSteps\")\n",
    "\n",
    "\n",
    "    end\n",
    "    Main.EFIT.IsoStep!(grid)\n",
    "    @parallel (rx,ry,rz) Main.EFIT.applySource!(grid.vx,grid.vy,grid.vz, Data.Number(0.0), Data.Number(0.0), (source(t)))\n",
    "end"
   ]
  }
 ],
 "metadata": {
  "kernelspec": {
   "display_name": "Julia 1.7.2",
   "language": "julia",
   "name": "julia-1.7"
  },
  "language_info": {
   "file_extension": ".jl",
   "mimetype": "application/julia",
   "name": "julia",
   "version": "1.7.2"
  },
  "orig_nbformat": 4
 },
 "nbformat": 4,
 "nbformat_minor": 2
}
