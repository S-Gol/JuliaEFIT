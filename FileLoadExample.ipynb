{
 "cells": [
  {
   "cell_type": "code",
   "execution_count": 1,
   "metadata": {},
   "outputs": [],
   "source": [
    "using Revise\n",
    "include(\"EFITModule/EFIT.jl\")\n",
    "include(\"EFITModule/ARBSCATT.jl\")\n",
    "\n",
    "using ParallelStencil\n",
    "using ParallelStencil.FiniteDifferences3D\n",
    "using GLMakie\n",
    "ParallelStencil.@reset_parallel_stencil()\n",
    "\n",
    "USE_GPU = false\n",
    "@static if USE_GPU\n",
    "    @init_parallel_stencil(CUDA, Float32, 3)\n",
    "else\n",
    "    @init_parallel_stencil(Threads, Float32, 3)\n",
    "end"
   ]
  },
  {
   "cell_type": "code",
   "execution_count": null,
   "metadata": {},
   "outputs": [],
   "source": [
    "matGrid, params = Main.ARBSCATT.loadARBSCATT(\"TestFiles\");\n",
    "transducer = Main.ARBSCATT.loadTransducers(\"TestFiles\")"
   ]
  },
  {
   "cell_type": "code",
   "execution_count": null,
   "metadata": {},
   "outputs": [],
   "source": [
    "params"
   ]
  },
  {
   "cell_type": "code",
   "execution_count": null,
   "metadata": {},
   "outputs": [],
   "source": [
    "mat = Main.EFIT.IsoMat(params[\"λ\"],params[\"μ\"],params[\"ρ\"],params[\"λ\"] + 2*params[\"μ\"])"
   ]
  },
  {
   "cell_type": "code",
   "execution_count": null,
   "metadata": {},
   "outputs": [],
   "source": [
    "materials = [Main.EFIT.IsoMats[\"LightweightGeneric\"],mat]\n",
    "\n",
    "\n",
    "\n",
    "dx = params[\"ds\"]\n",
    "dt = params[\"dt\"]\n",
    "\n",
    "\n",
    "grid = Main.EFIT.EFITGrid(matGrid.+1,materials,dt,dx);"
   ]
  },
  {
   "cell_type": "code",
   "execution_count": null,
   "metadata": {},
   "outputs": [],
   "source": [
    "path = \"/media/data/2022 Data/RailTest_2,5MHz_14_May\"\n",
    "touch(\"$path/test.txt\")"
   ]
  },
  {
   "cell_type": "code",
   "execution_count": null,
   "metadata": {},
   "outputs": [],
   "source": [
    "fig,ax,plt = volume(Array(grid.vx[1:2:end,1:2:end,1:2:end]),algorithm=:mip,colorrange = (0, 0.01),colormap=:curl, transparency=true)"
   ]
  },
  {
   "cell_type": "code",
   "execution_count": null,
   "metadata": {},
   "outputs": [],
   "source": [
    "sx = 866\n",
    "sy = 358\n",
    "sz = 715\n",
    "r = 45\n",
    "\n",
    "rx = sx:sx\n",
    "ry = sy-r:sy+r\n",
    "rz = sz-r:sz+r\n",
    "\n",
    "nSteps = 3000\n",
    "for i = 1:nSteps\n",
    "    if i % 10 == 0\n",
    "        println(\"Saving at $i of $nSteps\")\n",
    "        Main.EFIT.writeToBOV(i*dt,i,grid,directory=path)\n",
    "        plt.volume = sqrt.(grid.vx[1:2:end,1:2:end,1:2:end].^2 .+ grid.vy[1:2:end,1:2:end,1:2:end].^2 .+ grid.vz[1:2:end,1:2:end,1:2:end].^2)\n",
    "    end\n",
    "    println(\"$i of $nSteps\")\n",
    "    Main.EFIT.SimStep!(grid)\n",
    "    if i < transducer[1].drivelen\n",
    "        drive = transducer[1].drivef[i]*grid.dtds /params[\"ρ\"]\n",
    "    else\n",
    "        drive = 0\n",
    "\n",
    "    end\n",
    "    @parallel (rx,ry,rz) Main.EFIT.applySource!(grid.vx,grid.vy,grid.vz, drive, Data.Number(0.0), Data.Number(0.0))\n",
    "end"
   ]
  }
 ],
 "metadata": {
  "kernelspec": {
   "display_name": "Julia 1.7.2",
   "language": "julia",
   "name": "julia-1.7"
  },
  "language_info": {
   "file_extension": ".jl",
   "mimetype": "application/julia",
   "name": "julia",
   "version": "1.7.2"
  },
  "orig_nbformat": 4
 },
 "nbformat": 4,
 "nbformat_minor": 2
}
