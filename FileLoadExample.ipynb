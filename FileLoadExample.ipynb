{
 "cells": [
  {
   "cell_type": "code",
   "execution_count": 1,
   "metadata": {},
   "outputs": [],
   "source": [
    "using Revise\n",
    "include(\"EFITModule/EFIT.jl\")\n",
    "include(\"EFITModule/ARBSCATT.jl\")\n",
    "\n",
    "using ParallelStencil\n",
    "using ParallelStencil.FiniteDifferences3D\n",
    "using GLMakie\n",
    "ParallelStencil.@reset_parallel_stencil()\n",
    "\n",
    "USE_GPU = false\n",
    "@static if USE_GPU\n",
    "    @init_parallel_stencil(CUDA, Float32, 3)\n",
    "else\n",
    "    @init_parallel_stencil(Threads, Float32, 3)\n",
    "end"
   ]
  },
  {
   "cell_type": "code",
   "execution_count": 2,
   "metadata": {},
   "outputs": [
    {
     "data": {
      "text/plain": [
       "1-element Vector{Main.ARBSCATT.Transducer}:\n",
       " Main.ARBSCATT.Transducer(715, 358, 866, 45, 3001, 0.0f0, 0.0f0, Float32[0.0, 290181.2, 555390.4, 772804.56, 923713.9, 995131.56, 980911.7, 882277.94, 707718.4, 472255.0  …  0.0, 0.0, 0.0, 0.0, 0.0, 0.0, 0.0, 0.0, 0.0, 0.0])"
      ]
     },
     "metadata": {},
     "output_type": "display_data"
    }
   ],
   "source": [
    "matGrid, params = Main.ARBSCATT.loadARBSCATT(\"TestFiles\");\n",
    "transducer = Main.ARBSCATT.loadTransducers(\"TestFiles\")"
   ]
  },
  {
   "cell_type": "code",
   "execution_count": 3,
   "metadata": {},
   "outputs": [
    {
     "data": {
      "text/plain": [
       "Dict{Any, Any} with 10 entries:\n",
       "  \"nz\"      => 1431\n",
       "  \"nx\"      => 867\n",
       "  \"μ\"       => 8.09365f10\n",
       "  \"maxT\"    => 3001.0\n",
       "  \"λ\"       => 1.05603f11\n",
       "  \"ρ\"       => 7710.0\n",
       "  \"ny\"      => 716\n",
       "  \"dt\"      => 2.08257f-8\n",
       "  \"outputN\" => 10.0\n",
       "  \"ds\"      => 0.000212459"
      ]
     },
     "metadata": {},
     "output_type": "display_data"
    }
   ],
   "source": [
    "params"
   ]
  },
  {
   "cell_type": "code",
   "execution_count": 4,
   "metadata": {},
   "outputs": [
    {
     "data": {
      "text/plain": [
       "Main.EFIT.IsoMat(7710.0f0, 1.056031f11, 8.093649f10, 2.6747607f11)"
      ]
     },
     "metadata": {},
     "output_type": "display_data"
    }
   ],
   "source": [
    "mat = Main.EFIT.IsoMat(params[\"λ\"],params[\"μ\"],params[\"ρ\"],params[\"λ\"] + 2*params[\"μ\"])"
   ]
  },
  {
   "cell_type": "code",
   "execution_count": 9,
   "metadata": {},
   "outputs": [
    {
     "name": "stdout",
     "output_type": "stream",
     "text": [
      "\n",
      "Creating grid of size 867, 716, 1431\n",
      "\n"
     ]
    }
   ],
   "source": [
    "materials = [Main.EFIT.IsoMats[\"LightweightGeneric\"],mat]\n",
    "\n",
    "\n",
    "\n",
    "dx = params[\"ds\"]\n",
    "dt = params[\"dt\"]\n",
    "\n",
    "\n",
    "grid = Main.EFIT.EFITGrid(matGrid.+1,materials,dt,dx);"
   ]
  },
  {
   "cell_type": "code",
   "execution_count": 10,
   "metadata": {},
   "outputs": [
    {
     "data": {
      "text/plain": [
       "\"/media/data/2022 Data/RailTest_2,5MHz_14_May/test.txt\""
      ]
     },
     "metadata": {},
     "output_type": "display_data"
    }
   ],
   "source": [
    "path = \"/media/data/2022 Data/RailTest_2,5MHz_14_May\"\n",
    "touch(\"$path/test.txt\")"
   ]
  },
  {
   "cell_type": "code",
   "execution_count": 12,
   "metadata": {},
   "outputs": [],
   "source": [
    "fig,ax,plt = volume(Array(grid.vx[1:2:end,1:2:end,1:2:end]),algorithm=:mip,colorrange = (0, 0.01),colormap=:curl, transparency=true)"
   ]
  },
  {
   "cell_type": "code",
   "execution_count": 13,
   "metadata": {},
   "outputs": [
    {
     "name": "stdout",
     "output_type": "stream",
     "text": [
      "1 of 500\n"
     ]
    },
    {
     "name": "stdout",
     "output_type": "stream",
     "text": [
      "2 of 500\n"
     ]
    },
    {
     "name": "stdout",
     "output_type": "stream",
     "text": [
      "3 of 500\n"
     ]
    },
    {
     "name": "stdout",
     "output_type": "stream",
     "text": [
      "4 of 500\n"
     ]
    },
    {
     "name": "stdout",
     "output_type": "stream",
     "text": [
      "5 of 500\n"
     ]
    },
    {
     "name": "stdout",
     "output_type": "stream",
     "text": [
      "6 of 500\n"
     ]
    },
    {
     "name": "stdout",
     "output_type": "stream",
     "text": [
      "7 of 500\n"
     ]
    },
    {
     "name": "stdout",
     "output_type": "stream",
     "text": [
      "8 of 500\n"
     ]
    },
    {
     "name": "stdout",
     "output_type": "stream",
     "text": [
      "9 of 500\n"
     ]
    },
    {
     "name": "stdout",
     "output_type": "stream",
     "text": [
      "Saving at 10 of 500\n"
     ]
    },
    {
     "name": "stdout",
     "output_type": "stream",
     "text": [
      "10 of 500\n"
     ]
    },
    {
     "name": "stdout",
     "output_type": "stream",
     "text": [
      "11 of 500\n"
     ]
    },
    {
     "name": "stdout",
     "output_type": "stream",
     "text": [
      "12 of 500\n"
     ]
    },
    {
     "name": "stdout",
     "output_type": "stream",
     "text": [
      "13 of 500\n"
     ]
    },
    {
     "name": "stdout",
     "output_type": "stream",
     "text": [
      "14 of 500\n"
     ]
    },
    {
     "name": "stdout",
     "output_type": "stream",
     "text": [
      "15 of 500\n"
     ]
    },
    {
     "name": "stdout",
     "output_type": "stream",
     "text": [
      "16 of 500\n"
     ]
    },
    {
     "name": "stdout",
     "output_type": "stream",
     "text": [
      "17 of 500\n"
     ]
    },
    {
     "name": "stdout",
     "output_type": "stream",
     "text": [
      "18 of 500\n"
     ]
    },
    {
     "name": "stdout",
     "output_type": "stream",
     "text": [
      "19 of 500\n"
     ]
    },
    {
     "name": "stdout",
     "output_type": "stream",
     "text": [
      "Saving at 20 of 500\n"
     ]
    },
    {
     "name": "stdout",
     "output_type": "stream",
     "text": [
      "20 of 500\n"
     ]
    },
    {
     "name": "stdout",
     "output_type": "stream",
     "text": [
      "21 of 500\n"
     ]
    },
    {
     "name": "stdout",
     "output_type": "stream",
     "text": [
      "22 of 500\n"
     ]
    },
    {
     "name": "stdout",
     "output_type": "stream",
     "text": [
      "23 of 500\n"
     ]
    },
    {
     "name": "stdout",
     "output_type": "stream",
     "text": [
      "24 of 500\n"
     ]
    },
    {
     "name": "stdout",
     "output_type": "stream",
     "text": [
      "25 of 500\n"
     ]
    },
    {
     "name": "stdout",
     "output_type": "stream",
     "text": [
      "26 of 500\n"
     ]
    },
    {
     "name": "stdout",
     "output_type": "stream",
     "text": [
      "27 of 500\n"
     ]
    },
    {
     "name": "stdout",
     "output_type": "stream",
     "text": [
      "28 of 500\n"
     ]
    }
   ],
   "source": [
    "sx = 866\n",
    "sy = 358\n",
    "sz = 715\n",
    "r = 45\n",
    "\n",
    "rx = sx:sx\n",
    "ry = sy-r:sy+r\n",
    "rz = sz-r:sz+r\n",
    "\n",
    "nSteps = 3000\n",
    "for i = 1:nSteps\n",
    "    if i % 10 == 0\n",
    "        println(\"Saving at $i of $nSteps\")\n",
    "        Main.EFIT.writeToBOV(i*dt,i,grid,directory=path)\n",
    "        plt.volume = sqrt.(grid.vx[1:2:end,1:2:end,1:2:end].^2 .+ grid.vy[1:2:end,1:2:end,1:2:end].^2 .+ grid.vz[1:2:end,1:2:end,1:2:end].^2)\n",
    "    end\n",
    "    println(\"$i of $nSteps\")\n",
    "    Main.EFIT.SimStep!(grid)\n",
    "    if i < transducer[1].drivelen\n",
    "        drive = transducer[1].drivef[i]\n",
    "    else\n",
    "        drive = 0\n",
    "\n",
    "    end\n",
    "    @parallel (rx,ry,rz) Main.EFIT.applySource!(grid.vx,grid.vy,grid.vz, Data.Number(0.0), Data.Number(0.0), drive)\n",
    "end"
   ]
  }
 ],
 "metadata": {
  "kernelspec": {
   "display_name": "Julia 1.7.2",
   "language": "julia",
   "name": "julia-1.7"
  },
  "language_info": {
   "file_extension": ".jl",
   "mimetype": "application/julia",
   "name": "julia",
   "version": "1.7.2"
  },
  "orig_nbformat": 4
 },
 "nbformat": 4,
 "nbformat_minor": 2
}
