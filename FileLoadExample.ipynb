{
 "cells": [
  {
   "cell_type": "code",
   "execution_count": 15,
   "source": [
    "using Revise\r\n",
    "include(\"EFITModule/EFIT.jl\")\r\n",
    "include(\"EFITModule/ARBSCATT.jl\")\r\n"
   ],
   "outputs": [
    {
     "output_type": "stream",
     "name": "stderr",
     "text": [
      "WARNING: replacing module EFIT.\n",
      "WARNING: replacing module ARBSCATT.\n"
     ]
    },
    {
     "output_type": "display_data",
     "data": {
      "text/plain": [
       "Main.ARBSCATT"
      ]
     },
     "metadata": {}
    }
   ],
   "metadata": {}
  },
  {
   "cell_type": "code",
   "execution_count": 16,
   "source": [
    "matGrid, params = Main.ARBSCATT.loadARBSCATT(\"TestFiles\");"
   ],
   "outputs": [],
   "metadata": {}
  },
  {
   "cell_type": "code",
   "execution_count": 20,
   "source": [
    "materials = [Main.EFIT.IsoMats[\"lightweightGeneric\"],Main.EFIT.IsoMats[\"steel\"]]\r\n",
    "\r\n",
    "c = 8000\r\n",
    "#Frequency, hz\r\n",
    "f0=1e6\r\n",
    "#Period\r\n",
    "t0 = 1.00 / f0\r\n",
    "\r\n",
    "dx = c/(8*f0)\r\n",
    "dt = dx/(c*sqrt(3))\r\n",
    "\r\n",
    "\r\n",
    "grid = Main.EFIT.EFITGrid(matGrid.+1,materials,dt,dx);"
   ],
   "outputs": [
    {
     "output_type": "stream",
     "name": "stdout",
     "text": [
      "Creating grid of size 867, 716, 1431\n"
     ]
    }
   ],
   "metadata": {}
  },
  {
   "cell_type": "code",
   "execution_count": 21,
   "source": [
    "function source(t)\r\n",
    "    v = exp(-((2*(t-2*t0)/(t0))^2))*sin(2*pi*f0*t)*0.1\r\n",
    "    return Data.Number(v)\r\n",
    "end"
   ],
   "outputs": [
    {
     "output_type": "display_data",
     "data": {
      "text/plain": [
       "source (generic function with 1 method)"
      ]
     },
     "metadata": {}
    }
   ],
   "metadata": {}
  },
  {
   "cell_type": "code",
   "execution_count": 22,
   "source": [
    "sx = 715\r\n",
    "sy = 358\r\n",
    "sz = 866\r\n",
    "r = 45\r\n",
    "\r\n",
    "rx = sx-r:sx+r\r\n",
    "ry = sy-r:sy+r\r\n",
    "rz = sz:sz\r\n",
    "\r\n",
    "nSteps = 500\r\n",
    "for i = 1:nSteps\r\n",
    "    if i % 10 == 0\r\n",
    "        println(\"$i of $nSteps\")\r\n",
    "\r\n",
    "\r\n",
    "    end\r\n",
    "    Main.EFIT.SimStep!(grid)\r\n",
    "    @parallel (rx,ry,rz) Main.EFIT.applySource!(grid.vx,grid.vy,grid.vz, Data.Number(0.0), Data.Number(0.0), (source(t)))\r\n",
    "end"
   ],
   "outputs": [
    {
     "output_type": "stream",
     "name": "stdout",
     "text": [
      "10 of 500\n",
      "20 of 500\n",
      "30 of 500\n",
      "40 of 500\n",
      "50 of 500\n",
      "60 of 500\n",
      "70 of 500\n",
      "80 of 500\n",
      "90 of 500\n",
      "100 of 500\n",
      "110 of 500\n",
      "120 of 500\n",
      "130 of 500\n",
      "140 of 500\n",
      "150 of 500\n",
      "160 of 500\n",
      "170 of 500\n",
      "180 of 500\n",
      "190 of 500\n",
      "200 of 500\n",
      "210 of 500\n",
      "220 of 500\n",
      "230 of 500\n",
      "240 of 500\n",
      "250 of 500\n",
      "260 of 500\n",
      "270 of 500\n",
      "280 of 500\n",
      "290 of 500\n",
      "300 of 500\n",
      "310 of 500\n",
      "320 of 500\n",
      "330 of 500\n",
      "340 of 500\n",
      "350 of 500\n",
      "360 of 500\n",
      "370 of 500\n",
      "380 of 500\n",
      "390 of 500\n",
      "400 of 500\n",
      "410 of 500\n",
      "420 of 500\n",
      "430 of 500\n",
      "440 of 500\n",
      "450 of 500\n",
      "460 of 500\n",
      "470 of 500\n",
      "480 of 500\n",
      "490 of 500\n",
      "500 of 500\n"
     ]
    }
   ],
   "metadata": {}
  }
 ],
 "metadata": {
  "kernelspec": {
   "display_name": "Julia 1.7.2",
   "language": "julia",
   "name": "julia-1.7"
  },
  "language_info": {
   "file_extension": ".jl",
   "mimetype": "application/julia",
   "name": "julia",
   "version": "1.7.2"
  },
  "orig_nbformat": 4
 },
 "nbformat": 4,
 "nbformat_minor": 2
}