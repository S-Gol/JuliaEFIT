{
 "cells": [
  {
   "cell_type": "code",
   "execution_count": 28,
   "source": [
    "using Revise\r\n",
    "include(\"EFITModule/ARBSCATT.jl\")\r\n",
    "\r\n",
    "path = \"ARBSCATTFiles/225Rail\""
   ],
   "outputs": [
    {
     "output_type": "stream",
     "name": "stderr",
     "text": [
      "WARNING: replacing module ARBSCATT.\n"
     ]
    },
    {
     "output_type": "execute_result",
     "data": {
      "text/plain": [
       "\"ARBSCATTFiles/225Rail\""
      ]
     },
     "metadata": {},
     "execution_count": 28
    }
   ],
   "metadata": {}
  },
  {
   "cell_type": "code",
   "execution_count": 21,
   "source": [
    "data = Main.ARBSCATT.loadARBSCATT(path);\r\n"
   ],
   "outputs": [],
   "metadata": {}
  },
  {
   "cell_type": "code",
   "execution_count": 30,
   "source": [
    "Main.ARBSCATT.loadTransducers(path)"
   ],
   "outputs": [
    {
     "output_type": "execute_result",
     "data": {
      "text/plain": [
       "1-element Vector{Main.ARBSCATT.Transducer}:\n",
       " Main.ARBSCATT.Transducer(715, 358, 866, 45, 3001, 0.0f0, 0.0f0, Float32[0.0, 290181.2, 555390.4, 772804.56, 923713.9, 995131.56, 980911.7, 882277.94, 707718.4, 472255.0  …  0.0, 0.0, 0.0, 0.0, 0.0, 0.0, 0.0, 0.0, 0.0, 0.0])"
      ]
     },
     "metadata": {},
     "execution_count": 30
    }
   ],
   "metadata": {}
  }
 ],
 "metadata": {
  "orig_nbformat": 4,
  "language_info": {
   "file_extension": ".jl",
   "name": "julia",
   "mimetype": "application/julia",
   "version": "1.7.2"
  },
  "kernelspec": {
   "name": "julia-1.7",
   "display_name": "Julia 1.7.2",
   "language": "julia"
  }
 },
 "nbformat": 4,
 "nbformat_minor": 2
}