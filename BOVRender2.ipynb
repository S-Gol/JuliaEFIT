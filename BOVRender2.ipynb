{
 "cells": [
  {
   "cell_type": "code",
   "execution_count": 33,
   "metadata": {},
   "outputs": [
    {
     "name": "stderr",
     "output_type": "stream",
     "text": [
      "WARNING: replacing module EFIT.\n"
     ]
    },
    {
     "data": {
      "text/plain": [
       "Main.EFIT"
      ]
     },
     "metadata": {},
     "output_type": "display_data"
    }
   ],
   "source": [
    "using GLMakie\n",
    "using Revise\n",
    "include(\"EFITModule/EFIT.jl\")\n"
   ]
  },
  {
   "cell_type": "markdown",
   "metadata": {},
   "source": [
    "# Initialize files"
   ]
  },
  {
   "cell_type": "code",
   "execution_count": 46,
   "metadata": {},
   "outputs": [
    {
     "name": "stdout",
     "output_type": "stream",
     "text": [
      "(434, 358, 716)"
     ]
    }
   ],
   "source": [
    "paths = Vector{Tuple{Int64,String}}()\n",
    "dir = \"/media/data/2022 Data/RailTest_2,5MHz_3_May/\"\n",
    "for f in readdir(dir)\n",
    "    fname, ftype = split(f,\".\")\n",
    "    i = split(fname,\"-\")[end]\n",
    "    if ftype == \"bov\"\n",
    "        push!(paths,(parse(Int,i),\"$dir/$f\"))\n",
    "    end\n",
    "end\n",
    "sort!(paths)\n",
    "bovs = [i[2] for i in paths];\n",
    "data = Main.EFIT.readBOV(bovs[1]);\n",
    "print(size(data))\n"
   ]
  },
  {
   "cell_type": "markdown",
   "metadata": {},
   "source": [
    "# Volumetric animation"
   ]
  },
  {
   "cell_type": "code",
   "execution_count": 47,
   "metadata": {},
   "outputs": [
    {
     "data": {
      "text/plain": [
       "\"Animation_Volume.mp4\""
      ]
     },
     "metadata": {},
     "output_type": "display_data"
    }
   ],
   "source": [
    "data = Main.EFIT.readBOV(bovs[1]);\n",
    "fig,ax,plt = volume(data,algorithm=:mip,colorrange = (0, 0.01),colormap=:curl, transparency=true)\n",
    "record(fig, \"Animation_Volume.mp4\", bovs; framerate = 30) do path\n",
    "    Main.EFIT.readBOV!(data, path)\n",
    "    plt.volume = data\n",
    "end"
   ]
  },
  {
   "cell_type": "markdown",
   "metadata": {},
   "source": [
    "# 2D Slices"
   ]
  },
  {
   "cell_type": "markdown",
   "metadata": {},
   "source": [
    "## X Slice"
   ]
  },
  {
   "cell_type": "code",
   "execution_count": 74,
   "metadata": {},
   "outputs": [
    {
     "ename": "ErrorException",
     "evalue": "Screen not open!",
     "output_type": "error",
     "traceback": [
      "Screen not open!\n",
      "\n",
      "Stacktrace:\n",
      "  [1] error(s::String)\n",
      "    @ Base ./error.jl:33\n",
      "  [2] colorbuffer(screen::GLMakie.Screen, format::Makie.ImageStorageFormat)\n",
      "    @ GLMakie ~/.julia/packages/GLMakie/TfSB1/src/screen.jl:175\n",
      "  [3] recordframe!(io::VideoStream)\n",
      "    @ Makie ~/.julia/packages/Makie/lgPZh/src/display.jl:414\n",
      "  [4] Record(func::var\"#61#62\", scene::Figure, iter::Vector{String}; framerate::Int64)\n",
      "    @ Makie ~/.julia/packages/Makie/lgPZh/src/display.jl:592\n",
      "  [5] #record#948\n",
      "    @ ~/.julia/packages/Makie/lgPZh/src/display.jl:584 [inlined]\n",
      "  [6] top-level scope\n",
      "    @ ~/Desktop/AnisoEFITJulia/BOVRender.ipynb:3\n",
      "  [7] eval\n",
      "    @ ./boot.jl:373 [inlined]\n",
      "  [8] include_string(mapexpr::typeof(REPL.softscope), mod::Module, code::String, filename::String)\n",
      "    @ Base ./loading.jl:1196\n",
      "  [9] #invokelatest#2\n",
      "    @ ./essentials.jl:716 [inlined]\n",
      " [10] invokelatest\n",
      "    @ ./essentials.jl:714 [inlined]\n",
      " [11] (::VSCodeServer.var\"#164#165\"{VSCodeServer.NotebookRunCellArguments, String})()\n",
      "    @ VSCodeServer ~/.vscode/extensions/julialang.language-julia-1.6.17/scripts/packages/VSCodeServer/src/serve_notebook.jl:19\n",
      " [12] withpath(f::VSCodeServer.var\"#164#165\"{VSCodeServer.NotebookRunCellArguments, String}, path::String)\n",
      "    @ VSCodeServer ~/.vscode/extensions/julialang.language-julia-1.6.17/scripts/packages/VSCodeServer/src/repl.jl:184\n",
      " [13] notebook_runcell_request(conn::VSCodeServer.JSONRPC.JSONRPCEndpoint{Base.PipeEndpoint, Base.PipeEndpoint}, params::VSCodeServer.NotebookRunCellArguments)\n",
      "    @ VSCodeServer ~/.vscode/extensions/julialang.language-julia-1.6.17/scripts/packages/VSCodeServer/src/serve_notebook.jl:13\n",
      " [14] dispatch_msg(x::VSCodeServer.JSONRPC.JSONRPCEndpoint{Base.PipeEndpoint, Base.PipeEndpoint}, dispatcher::VSCodeServer.JSONRPC.MsgDispatcher, msg::Dict{String, Any})\n",
      "    @ VSCodeServer.JSONRPC ~/.vscode/extensions/julialang.language-julia-1.6.17/scripts/packages/JSONRPC/src/typed.jl:67\n",
      " [15] serve_notebook(pipename::String, outputchannel_logger::Base.CoreLogging.SimpleLogger; crashreporting_pipename::String)\n",
      "    @ VSCodeServer ~/.vscode/extensions/julialang.language-julia-1.6.17/scripts/packages/VSCodeServer/src/serve_notebook.jl:136\n",
      " [16] top-level scope\n",
      "    @ ~/.vscode/extensions/julialang.language-julia-1.6.17/scripts/notebook/notebook.jl:32\n",
      " [17] include(mod::Module, _path::String)\n",
      "    @ Base ./Base.jl:418\n",
      " [18] exec_options(opts::Base.JLOptions)\n",
      "    @ Base ./client.jl:292\n",
      " [19] _start()\n",
      "    @ Base ./client.jl:495"
     ]
    }
   ],
   "source": [
    "data = Main.EFIT.readBOV(bovs[1]);\n",
    "fig,ax,plt = heatmap(data[floor(Int,end/2),:,:],colorrange = (0, 0.01),colormap=:curl)\n",
    "record(fig, \"Animation_XSlice.mp4\", bovs; framerate = 30) do path\n",
    "    Main.EFIT.readBOV!(data, path)\n",
    "    plt.heatmap = data[floor(Int,end/2),:,:]\n",
    "end"
   ]
  },
  {
   "cell_type": "code",
   "execution_count": 73,
   "metadata": {},
   "outputs": [
    {
     "ename": "ErrorException",
     "evalue": "Screen not open!",
     "output_type": "error",
     "traceback": [
      "Screen not open!\n",
      "\n",
      "Stacktrace:\n",
      "  [1] error(s::String)\n",
      "    @ Base ./error.jl:33\n",
      "  [2] colorbuffer(screen::GLMakie.Screen, format::Makie.ImageStorageFormat)\n",
      "    @ GLMakie ~/.julia/packages/GLMakie/TfSB1/src/screen.jl:175\n",
      "  [3] recordframe!(io::VideoStream)\n",
      "    @ Makie ~/.julia/packages/Makie/lgPZh/src/display.jl:414\n",
      "  [4] Record(func::var\"#59#60\", scene::Figure, iter::Vector{String}; framerate::Int64)\n",
      "    @ Makie ~/.julia/packages/Makie/lgPZh/src/display.jl:592\n",
      "  [5] #record#948\n",
      "    @ ~/.julia/packages/Makie/lgPZh/src/display.jl:584 [inlined]\n",
      "  [6] top-level scope\n",
      "    @ ~/Desktop/AnisoEFITJulia/BOVRender.ipynb:3\n",
      "  [7] eval\n",
      "    @ ./boot.jl:373 [inlined]\n",
      "  [8] include_string(mapexpr::typeof(REPL.softscope), mod::Module, code::String, filename::String)\n",
      "    @ Base ./loading.jl:1196\n",
      "  [9] #invokelatest#2\n",
      "    @ ./essentials.jl:716 [inlined]\n",
      " [10] invokelatest\n",
      "    @ ./essentials.jl:714 [inlined]\n",
      " [11] (::VSCodeServer.var\"#164#165\"{VSCodeServer.NotebookRunCellArguments, String})()\n",
      "    @ VSCodeServer ~/.vscode/extensions/julialang.language-julia-1.6.17/scripts/packages/VSCodeServer/src/serve_notebook.jl:19\n",
      " [12] withpath(f::VSCodeServer.var\"#164#165\"{VSCodeServer.NotebookRunCellArguments, String}, path::String)\n",
      "    @ VSCodeServer ~/.vscode/extensions/julialang.language-julia-1.6.17/scripts/packages/VSCodeServer/src/repl.jl:184\n",
      " [13] notebook_runcell_request(conn::VSCodeServer.JSONRPC.JSONRPCEndpoint{Base.PipeEndpoint, Base.PipeEndpoint}, params::VSCodeServer.NotebookRunCellArguments)\n",
      "    @ VSCodeServer ~/.vscode/extensions/julialang.language-julia-1.6.17/scripts/packages/VSCodeServer/src/serve_notebook.jl:13\n",
      " [14] dispatch_msg(x::VSCodeServer.JSONRPC.JSONRPCEndpoint{Base.PipeEndpoint, Base.PipeEndpoint}, dispatcher::VSCodeServer.JSONRPC.MsgDispatcher, msg::Dict{String, Any})\n",
      "    @ VSCodeServer.JSONRPC ~/.vscode/extensions/julialang.language-julia-1.6.17/scripts/packages/JSONRPC/src/typed.jl:67\n",
      " [15] serve_notebook(pipename::String, outputchannel_logger::Base.CoreLogging.SimpleLogger; crashreporting_pipename::String)\n",
      "    @ VSCodeServer ~/.vscode/extensions/julialang.language-julia-1.6.17/scripts/packages/VSCodeServer/src/serve_notebook.jl:136\n",
      " [16] top-level scope\n",
      "    @ ~/.vscode/extensions/julialang.language-julia-1.6.17/scripts/notebook/notebook.jl:32\n",
      " [17] include(mod::Module, _path::String)\n",
      "    @ Base ./Base.jl:418\n",
      " [18] exec_options(opts::Base.JLOptions)\n",
      "    @ Base ./client.jl:292\n",
      " [19] _start()\n",
      "    @ Base ./client.jl:495"
     ]
    }
   ],
   "source": [
    "data = Main.EFIT.readBOV(bovs[1]);\n",
    "fig,ax,plt = heatmap(data[:,floor(Int,end/2),:],colorrange = (0, 0.01),colormap=:curl)\n",
    "record(fig, \"Animation_YSlice.mp4\", bovs; framerate = 30) do path\n",
    "    Main.EFIT.readBOV!(data, path)\n",
    "    plt.heatmap = data[:,floor(Int,end/2),:]\n",
    "end"
   ]
  },
  {
   "cell_type": "markdown",
   "metadata": {},
   "source": [
    "# Composite"
   ]
  },
  {
   "cell_type": "code",
   "execution_count": 78,
   "metadata": {},
   "outputs": [
    {
     "data": {
      "text/plain": [
       "\"Animation_Composite.mp4\""
      ]
     },
     "metadata": {},
     "output_type": "display_data"
    }
   ],
   "source": [
    "data = Main.EFIT.readBOV(bovs[1]);\n",
    "\n",
    "fig = Figure()\n",
    "\n",
    "vscene = LScene(fig[1, 1])\n",
    "vplt = volume!(vscene, data,algorithm=:mip,colorrange = (0, 0.01),colormap=:curl, transparency=true)\n",
    "\n",
    "fig[1,2] = LScene(fig[1, 2])\n",
    "xplt = heatmap!(fig[1,2],data[floor(Int,end/2),:,:],colorrange = crange,colormap=cmap)\n",
    "\n",
    "fig[2,1] = Axis(fig, title = \"Y Slice\")\n",
    "yplt = heatmap!(fig[2,1],data[:,floor(Int,end/2),:],colorrange = crange,colormap=cmap)\n",
    "\n",
    "fig[2,2] = Axis(fig, title = \"Z Slice\")\n",
    "zplt = heatmap!(fig[2,2],data[:,:,floor(Int,end/2)],colorrange = crange,colormap=cmap)\n",
    "\n",
    "crange =(0, 0.01)\n",
    "cmap=:curl \n",
    "\n",
    "record(fig, \"Animation_Composite.mp4\", bovs; framerate = 30) do path\n",
    "    Main.EFIT.readBOV!(data, path)\n",
    "    vplt.volume = data\n",
    "    xplt.heatmap = data[floor(Int,end/2),:,:]\n",
    "    yplt.heatmap = data[:,floor(Int,end/2),:]\n",
    "    zplt.heatmap = data[:,:,floor(Int,end/2)]\n",
    "\n",
    "\n",
    "end"
   ]
  }
 ],
 "metadata": {
  "kernelspec": {
   "display_name": "Julia 1.7.2",
   "language": "julia",
   "name": "julia-1.7"
  },
  "language_info": {
   "file_extension": ".jl",
   "mimetype": "application/julia",
   "name": "julia",
   "version": "1.7.2"
  },
  "orig_nbformat": 4
 },
 "nbformat": 4,
 "nbformat_minor": 2
}
