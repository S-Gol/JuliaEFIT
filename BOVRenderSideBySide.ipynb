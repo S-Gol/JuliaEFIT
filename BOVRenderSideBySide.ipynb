{
 "cells": [
  {
   "cell_type": "code",
   "execution_count": 1,
   "source": [
    "using GLMakie\r\n",
    "using Revise\r\n",
    "include(\"EFITModule/EFIT.jl\")\r\n"
   ],
   "outputs": [
    {
     "output_type": "execute_result",
     "data": {
      "text/plain": [
       "Main.EFIT"
      ]
     },
     "metadata": {},
     "execution_count": 1
    }
   ],
   "metadata": {}
  },
  {
   "cell_type": "markdown",
   "source": [
    "# Initialize files"
   ],
   "metadata": {}
  },
  {
   "cell_type": "code",
   "execution_count": 6,
   "source": [
    "function sortPaths(dir)\r\n",
    "    paths = Vector{Tuple{Int64,String}}()\r\n",
    "    for f in readdir(dir)\r\n",
    "        fname, ftype = split(f,\".\")\r\n",
    "        i = split(String(fname),['-','_'])[end]\r\n",
    "        if ftype == \"bov\"\r\n",
    "            push!(paths,(parse(Int,i),\"$dir/$f\"))\r\n",
    "        end\r\n",
    "    end\r\n",
    "    sort!(paths)\r\n",
    "    return [i[2] for i in paths];\r\n",
    "end"
   ],
   "outputs": [
    {
     "output_type": "execute_result",
     "data": {
      "text/plain": [
       "sortPaths (generic function with 1 method)"
      ]
     },
     "metadata": {},
     "execution_count": 6
    }
   ],
   "metadata": {}
  },
  {
   "cell_type": "code",
   "execution_count": 12,
   "source": [
    "dirNew = \"BOVTests/\"\r\n",
    "dirOld = \"BOVTests/\"\r\n",
    "bovs = [sortPaths(dirNew),sortPaths(dirOld)]\r\n"
   ],
   "outputs": [
    {
     "output_type": "execute_result",
     "data": {
      "text/plain": [
       "2-element Vector{Vector{String}}:\n",
       " [\"BOVTests//data3d_at_t_990.bov\"]\n",
       " [\"BOVTests//data3d_at_t_990.bov\"]"
      ]
     },
     "metadata": {},
     "execution_count": 12
    }
   ],
   "metadata": {}
  },
  {
   "cell_type": "markdown",
   "source": [
    "# 2D Slices"
   ],
   "metadata": {}
  },
  {
   "cell_type": "markdown",
   "source": [
    "# Composite"
   ],
   "metadata": {}
  },
  {
   "cell_type": "code",
   "execution_count": 31,
   "source": [
    "dataA = zeros(433,358,714)\r\n",
    "dataB = zeros(433,358,714)\r\n",
    "\r\n",
    "fig = Figure()\r\n",
    "\r\n",
    "crange =(0, 1e6)\r\n",
    "cmap=:curl \r\n",
    "\r\n",
    "\r\n",
    "Main.EFIT.readBOV!(dataA, bovs[1][1])\r\n",
    "Main.EFIT.readBOV!(dataB, bovs[2][1])\r\n",
    "\r\n",
    "fig[1,1] = Axis(fig, title = \"New simulation\")\r\n",
    "aplt = heatmap!(fig[1,1],dataA[:,floor(Int,end/2),:],colorrange = (0,0.001),colormap=cmap)\r\n",
    "\r\n",
    "fig[1,2] = Axis(fig, title = \"Old simulation\")\r\n",
    "bplt = heatmap!(fig[1,2],dataB[:,floor(Int,end/2),:],colorrange = (0,0.001),colormap=cmap)\r\n",
    "\r\n",
    "record(fig, \"Animation_Composite.mp4\", 1:size(bovs[1],1); framerate = 30) do i\r\n",
    "    Main.EFIT.readBOV!(dataA, bovs[1][i])\r\n",
    "    Main.EFIT.readBOV!(dataB, bovs[2][i])\r\n",
    "    println(size(dataA))\r\n",
    "    aplt[1] = dataA[:,floor(Int,end/2),:]\r\n",
    "    bplt[1] = dataB[:,floor(Int,end/2),:]\r\n",
    "\r\n",
    "end"
   ],
   "outputs": [
    {
     "output_type": "stream",
     "name": "stdout",
     "text": [
      "(433, 358, 714)\n"
     ]
    },
    {
     "output_type": "execute_result",
     "data": {
      "text/plain": [
       "\"Animation_Composite.mp4\""
      ]
     },
     "metadata": {},
     "execution_count": 31
    }
   ],
   "metadata": {}
  }
 ],
 "metadata": {
  "kernelspec": {
   "display_name": "Julia 1.7.2",
   "language": "julia",
   "name": "julia-1.7"
  },
  "language_info": {
   "file_extension": ".jl",
   "mimetype": "application/julia",
   "name": "julia",
   "version": "1.7.2"
  },
  "orig_nbformat": 4
 },
 "nbformat": 4,
 "nbformat_minor": 2
}