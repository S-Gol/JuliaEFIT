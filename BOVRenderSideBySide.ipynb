{
 "cells": [
  {
   "cell_type": "code",
   "execution_count": 1,
   "metadata": {},
   "outputs": [
    {
     "data": {
      "text/plain": [
       "Main.EFIT"
      ]
     },
     "execution_count": 1,
     "metadata": {},
     "output_type": "execute_result"
    }
   ],
   "source": [
    "using GLMakie\n",
    "using Revise\n",
    "include(\"EFITModule/EFIT.jl\")\n"
   ]
  },
  {
   "cell_type": "markdown",
   "metadata": {},
   "source": [
    "# Initialize files"
   ]
  },
  {
   "cell_type": "code",
   "execution_count": 6,
   "metadata": {},
   "outputs": [
    {
     "data": {
      "text/plain": [
       "sortPaths (generic function with 1 method)"
      ]
     },
     "execution_count": 6,
     "metadata": {},
     "output_type": "execute_result"
    }
   ],
   "source": [
    "function sortPaths(dir)\n",
    "    paths = Vector{Tuple{Int64,String}}()\n",
    "    for f in readdir(dir)\n",
    "        fname, ftype = split(f,\".\")\n",
    "        i = split(String(fname),['-','_'])[end]\n",
    "        if ftype == \"bov\"\n",
    "            push!(paths,(parse(Int,i),\"$dir/$f\"))\n",
    "        end\n",
    "    end\n",
    "    sort!(paths)\n",
    "    return [i[2] for i in paths];\n",
    "end"
   ]
  },
  {
   "cell_type": "code",
   "execution_count": 56,
   "metadata": {},
   "outputs": [],
   "source": [
    "dirNew = \"/media/data/2022 Data/RailTest_2,5MHz_14_May/\"\n",
    "dirOld = \"/media/data/Simulation Data/2,25 MHz Rail, single sine pulse, 0deg XL9-11/Result-Binaries\"\n",
    "bovs = [sortPaths(dirNew),sortPaths(dirOld)];\n"
   ]
  },
  {
   "cell_type": "markdown",
   "metadata": {},
   "source": [
    "# 2D Slices"
   ]
  },
  {
   "cell_type": "markdown",
   "metadata": {},
   "source": [
    "# Composite"
   ]
  },
  {
   "cell_type": "code",
   "execution_count": 67,
   "metadata": {},
   "outputs": [
    {
     "name": "stdout",
     "output_type": "stream",
     "text": [
      "SubString{String}["
     ]
    },
    {
     "name": "stderr",
     "output_type": "stream",
     "text": [
      "error in running finalizer: ErrorException(\"task switch not allowed from inside gc finalizer\")\n",
      "jl_error at /buildworker/worker/package_linux64/build/src/rtutils.c:41\n",
      "jl_switch at /buildworker/worker/package_linux64/build/src/task.c:483\n",
      "try_yieldto at ./task.jl:767\n",
      "wait at ./task.jl:837\n",
      "wait at ./condition.jl:123\n",
      "lock at ./lock.jl:100\n",
      "close at ./iostream.jl:42\n",
      "_jl_invoke at /buildworker/worker/package_linux64/build/src/gf.c:2247 [inlined]\n",
      "jl_apply_generic at /buildworker/worker/package_linux64/build/src/gf.c:2429\n",
      "jl_apply at /buildworker/worker/package_linux64/build/src/julia.h:1788 [inlined]\n",
      "run_finalizer at /buildworker/worker/package_linux64/build/src/gc.c:278\n",
      "jl_gc_run_finalizers_in_list at /buildworker/worker/package_linux64/build/src/gc.c:365\n",
      "run_finalizers at /buildworker/worker/package_linux64/build/src/gc.c:394\n",
      "jl_gc_run_pending_finalizers at /buildworker/worker/package_linux64/build/src/gc.c:405\n",
      "jl_mutex_unlock at /buildworker/worker/package_linux64/build/src/julia_locks.h:131 [inlined]\n",
      "jl_process_events at /buildworker/worker/package_linux64/build/src/jl_uv.c:215\n",
      "process_events at ./libuv.jl:104 [inlined]\n",
      "wait at ./task.jl:838\n",
      "wait at ./condition.jl:123\n",
      "_trywait at ./asyncevent.jl:118\n",
      "wait at ./asyncevent.jl:136 [inlined]\n",
      "sleep at ./asyncevent.jl:221\n",
      "fps_renderloop at /home/student/.julia/packages/GLMakie/TfSB1/src/rendering.jl:32\n",
      "#renderloop#65 at /home/student/.julia/packages/GLMakie/TfSB1/src/rendering.jl:48\n",
      "renderloop at /home/student/.julia/packages/GLMakie/TfSB1/src/rendering.jl:41\n",
      "_jl_invoke at /buildworker/worker/package_linux64/build/src/gf.c:2247 [inlined]\n",
      "jl_apply_generic at /buildworker/worker/package_linux64/build/src/gf.c:2429\n",
      "#56 at ./task.jl:423\n",
      "unknown function (ip: 0x7f91b2b1c60f)\n",
      "_jl_invoke at /buildworker/worker/package_linux64/build/src/gf.c:2247 [inlined]\n",
      "jl_apply_generic at /buildworker/worker/package_linux64/build/src/gf.c:2429\n",
      "jl_apply at /buildworker/worker/package_linux64/build/src/julia.h:1788 [inlined]\n",
      "start_task at /buildworker/worker/package_linux64/build/src/task.c:877\n"
     ]
    },
    {
     "name": "stdout",
     "output_type": "stream",
     "text": [
      "\"/media/data/2022 Data/RailTest_2,5MHz_14_May//data-10\", \"bov\"]\n"
     ]
    },
    {
     "name": "stdout",
     "output_type": "stream",
     "text": [
      "1\n",
      "M.png\n"
     ]
    },
    {
     "name": "stdout",
     "output_type": "stream",
     "text": [
      "2\n",
      "M.png\n"
     ]
    },
    {
     "name": "stdout",
     "output_type": "stream",
     "text": [
      "3\n",
      "M.png\n"
     ]
    },
    {
     "name": "stdout",
     "output_type": "stream",
     "text": [
      "4\n",
      "M.png\n"
     ]
    },
    {
     "name": "stdout",
     "output_type": "stream",
     "text": [
      "5\n",
      "M.png\n"
     ]
    },
    {
     "name": "stdout",
     "output_type": "stream",
     "text": [
      "6\n",
      "M.png\n"
     ]
    },
    {
     "name": "stdout",
     "output_type": "stream",
     "text": [
      "7\n",
      "M.png\n"
     ]
    },
    {
     "name": "stdout",
     "output_type": "stream",
     "text": [
      "8\n",
      "M.png\n"
     ]
    },
    {
     "name": "stdout",
     "output_type": "stream",
     "text": [
      "9\n",
      "M.png\n"
     ]
    },
    {
     "name": "stdout",
     "output_type": "stream",
     "text": [
      "10\n",
      "M.png\n"
     ]
    },
    {
     "name": "stdout",
     "output_type": "stream",
     "text": [
      "11\n",
      "M.png\n"
     ]
    },
    {
     "name": "stdout",
     "output_type": "stream",
     "text": [
      "12\n",
      "M.png\n"
     ]
    },
    {
     "name": "stdout",
     "output_type": "stream",
     "text": [
      "13\n",
      "M.png\n"
     ]
    },
    {
     "name": "stdout",
     "output_type": "stream",
     "text": [
      "14\n",
      "M.png\n"
     ]
    },
    {
     "name": "stdout",
     "output_type": "stream",
     "text": [
      "15\n",
      "M.png\n"
     ]
    },
    {
     "name": "stdout",
     "output_type": "stream",
     "text": [
      "16\n",
      "M.png\n"
     ]
    },
    {
     "ename": "InterruptException",
     "evalue": "InterruptException:",
     "output_type": "error",
     "traceback": [
      "InterruptException:\n",
      "\n",
      "Stacktrace:\n",
      "  [1] unsafe_read(s::IOStream, p::Ptr{UInt8}, nb::UInt64)\n",
      "    @ Base ./iostream.jl:43\n",
      "  [2] unsafe_read\n",
      "    @ ./io.jl:724 [inlined]\n",
      "  [3] read!\n",
      "    @ ./io.jl:742 [inlined]\n",
      "  [4] #366\n",
      "    @ ./io.jl:446 [inlined]\n",
      "  [5] open(f::Base.var\"#366#367\"{Array{Float32, 3}}, args::String; kwargs::Base.Pairs{Symbol, Union{}, Tuple{}, NamedTuple{(), Tuple{}}})\n",
      "    @ Base ./io.jl:330\n",
      "  [6] open\n",
      "    @ ./io.jl:328 [inlined]\n",
      "  [7] read!\n",
      "    @ ./io.jl:446 [inlined]\n",
      "  [8] readBOV!(data::Array{Float32, 3}, path::String)\n",
      "    @ Main.EFIT ~/Desktop/AnisoEFITJulia/EFITModule/EFIT.jl:341\n",
      "  [9] (::var\"#57#58\")(i::Int64)\n",
      "    @ Main ~/Desktop/AnisoEFITJulia/BOVRenderSideBySide.ipynb:21\n",
      " [10] Record(func::var\"#57#58\", scene::Figure, iter::UnitRange{Int64}; framerate::Int64)\n",
      "    @ Makie ~/.julia/packages/Makie/lgPZh/src/display.jl:591\n",
      " [11] #record#948\n",
      "    @ ~/.julia/packages/Makie/lgPZh/src/display.jl:584 [inlined]\n",
      " [12] top-level scope\n",
      "    @ ~/Desktop/AnisoEFITJulia/BOVRenderSideBySide.ipynb:20\n",
      " [13] eval\n",
      "    @ ./boot.jl:373 [inlined]\n",
      " [14] include_string(mapexpr::typeof(REPL.softscope), mod::Module, code::String, filename::String)\n",
      "    @ Base ./loading.jl:1196\n",
      " [15] #invokelatest#2\n",
      "    @ ./essentials.jl:716 [inlined]\n",
      " [16] invokelatest\n",
      "    @ ./essentials.jl:714 [inlined]\n",
      " [17] (::VSCodeServer.var\"#164#165\"{VSCodeServer.NotebookRunCellArguments, String})()\n",
      "    @ VSCodeServer ~/.vscode/extensions/julialang.language-julia-1.6.17/scripts/packages/VSCodeServer/src/serve_notebook.jl:19\n",
      " [18] withpath(f::VSCodeServer.var\"#164#165\"{VSCodeServer.NotebookRunCellArguments, String}, path::String)\n",
      "    @ VSCodeServer ~/.vscode/extensions/julialang.language-julia-1.6.17/scripts/packages/VSCodeServer/src/repl.jl:184\n",
      " [19] notebook_runcell_request(conn::VSCodeServer.JSONRPC.JSONRPCEndpoint{Base.PipeEndpoint, Base.PipeEndpoint}, params::VSCodeServer.NotebookRunCellArguments)\n",
      "    @ VSCodeServer ~/.vscode/extensions/julialang.language-julia-1.6.17/scripts/packages/VSCodeServer/src/serve_notebook.jl:13\n",
      " [20] dispatch_msg(x::VSCodeServer.JSONRPC.JSONRPCEndpoint{Base.PipeEndpoint, Base.PipeEndpoint}, dispatcher::VSCodeServer.JSONRPC.MsgDispatcher, msg::Dict{String, Any})\n",
      "    @ VSCodeServer.JSONRPC ~/.vscode/extensions/julialang.language-julia-1.6.17/scripts/packages/JSONRPC/src/typed.jl:67\n",
      " [21] serve_notebook(pipename::String, outputchannel_logger::Base.CoreLogging.SimpleLogger; crashreporting_pipename::String)\n",
      "    @ VSCodeServer ~/.vscode/extensions/julialang.language-julia-1.6.17/scripts/packages/VSCodeServer/src/serve_notebook.jl:136\n",
      " [22] top-level scope\n",
      "    @ ~/.vscode/extensions/julialang.language-julia-1.6.17/scripts/notebook/notebook.jl:32\n",
      " [23] include(mod::Module, _path::String)\n",
      "    @ Base ./Base.jl:418\n",
      " [24] exec_options(opts::Base.JLOptions)\n",
      "    @ Base ./client.jl:292\n",
      " [25] _start()\n",
      "    @ Base ./client.jl:495"
     ]
    }
   ],
   "source": [
    "dataA = zeros(Float32, 434,358,716)\n",
    "dataB = zeros(Float64, 433,358,714)\n",
    "\n",
    "fig = Figure(resolution = (1920, 1080))\n",
    "\n",
    "crange =(0, 1e6)\n",
    "cmap=:curl \n",
    "\n",
    "\n",
    "Main.EFIT.readBOV!(dataA, bovs[1][1])\n",
    "Main.EFIT.readBOV!(dataB, bovs[2][1])\n",
    "\n",
    "fig[1,1] = Axis(fig, title = \"New simulation\")\n",
    "aplt = heatmap!(fig[1,1],dataA[:,floor(Int,end/2),:],colorrange = (0,0.001),colormap=cmap)\n",
    "\n",
    "fig[1,2] = Axis(fig, title = \"Old simulation\")\n",
    "bplt = heatmap!(fig[1,2],dataB[:,floor(Int,end/2),:],colorrange = (0,0.001),colormap=cmap)\n",
    "println(split(bovs[1][1],\".\"))\n",
    "\n",
    "record(fig, \"Animation_Composite.mp4\", 1:size(bovs[1],1); framerate = 30) do i\n",
    "    Main.EFIT.readBOV!(dataA, bovs[1][i])\n",
    "    Main.EFIT.readBOV!(dataB, bovs[2][i])\n",
    "    println(i)\n",
    "    fname, ftype = split(String(split(bovs[1][1],\".\")[1]),['-','_'])[end]\n",
    "    aplt[1] = dataA[:,floor(Int,end/2),:]\n",
    "    bplt[1] = dataB[:,floor(Int,end/2),:]\n",
    "    println(\"$fname.png\")\n",
    "    save(\"$fname.png\",fig)\n",
    "end"
   ]
  }
 ],
 "metadata": {
  "kernelspec": {
   "display_name": "Julia 1.7.2",
   "language": "julia",
   "name": "julia-1.7"
  },
  "language_info": {
   "file_extension": ".jl",
   "mimetype": "application/julia",
   "name": "julia",
   "version": "1.7.2"
  },
  "orig_nbformat": 4
 },
 "nbformat": 4,
 "nbformat_minor": 2
}
