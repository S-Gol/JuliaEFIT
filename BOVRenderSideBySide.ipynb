{
 "cells": [
  {
   "cell_type": "code",
   "execution_count": 1,
   "metadata": {},
   "outputs": [
    {
     "data": {
      "text/plain": [
       "Main.EFIT"
      ]
     },
     "metadata": {},
     "output_type": "display_data"
    }
   ],
   "source": [
    "using GLMakie\n",
    "using Revise\n",
    "include(\"EFITModule/EFIT.jl\")\n"
   ]
  },
  {
   "cell_type": "markdown",
   "metadata": {},
   "source": [
    "# Initialize files"
   ]
  },
  {
   "cell_type": "code",
   "execution_count": 16,
   "metadata": {},
   "outputs": [
    {
     "data": {
      "text/plain": [
       "sortPaths (generic function with 1 method)"
      ]
     },
     "metadata": {},
     "output_type": "display_data"
    }
   ],
   "source": [
    "function sortPaths(dir)\n",
    "    paths = Vector{Tuple{Int64,String}}()\n",
    "    for f in readdir(dir)\n",
    "        fname, ftype = split(f,\".\")\n",
    "        i = split(String(fname),['-','_'])[end]\n",
    "        if ftype == \"bov\"\n",
    "            push!(paths,(parse(Int,i),\"$dir/$f\"))\n",
    "        end\n",
    "    end\n",
    "    sort!(paths)\n",
    "    return [i[2] for i in paths];\n",
    "end"
   ]
  },
  {
   "cell_type": "code",
   "execution_count": 33,
   "metadata": {},
   "outputs": [
    {
     "data": {
      "text/plain": [
       "2-element Vector{Vector{String}}:\n",
       " [\"/media/data/2022 Data/RailTest_2,5MHz_14_May//data-10.bov\", \"/media/data/2022 Data/RailTest_2,5MHz_14_May//data-20.bov\", \"/media/data/2022 Data/RailTest_2,5MHz_14_May//data-30.bov\", \"/media/data/2022 Data/RailTest_2,5MHz_14_May//data-40.bov\", \"/media/data/2022 Data/RailTest_2,5MHz_14_May//data-50.bov\", \"/media/data/2022 Data/RailTest_2,5MHz_14_May//data-60.bov\", \"/media/data/2022 Data/RailTest_2,5MHz_14_May//data-70.bov\", \"/media/data/2022 Data/RailTest_2,5MHz_14_May//data-80.bov\", \"/media/data/2022 Data/RailTest_2,5MHz_14_May//data-90.bov\", \"/media/data/2022 Data/RailTest_2,5MHz_14_May//data-100.bov\"  …  \"/media/data/2022 Data/RailTest_2,5MHz_14_May//data-2910.bov\", \"/media/data/2022 Data/RailTest_2,5MHz_14_May//data-2920.bov\", \"/media/data/2022 Data/RailTest_2,5MHz_14_May//data-2930.bov\", \"/media/data/2022 Data/RailTest_2,5MHz_14_May//data-2940.bov\", \"/media/data/2022 Data/RailTest_2,5MHz_14_May//data-2950.bov\", \"/media/data/2022 Data/RailTest_2,5MHz_14_May//data-2960.bov\", \"/media/data/2022 Data/RailTest_2,5MHz_14_May//data-2970.bov\", \"/media/data/2022 Data/RailTest_2,5MHz_14_May//data-2980.bov\", \"/media/data/2022 Data/RailTest_2,5MHz_14_May//data-2990.bov\", \"/media/data/2022 Data/RailTest_2,5MHz_14_May//data-3000.bov\"]\n",
       " [\"/media/data/Simulation Data/2,25 MHz Rail, single sine pulse, 0deg XL9-11/Result-Binaries//data3d_at_t_0.bov\", \"/media/data/Simulation Data/2,25 MHz Rail, single sine pulse, 0deg XL9-11/Result-Binaries//data3d_at_t_10.bov\", \"/media/data/Simulation Data/2,25 MHz Rail, single sine pulse, 0deg XL9-11/Result-Binaries//data3d_at_t_20.bov\", \"/media/data/Simulation Data/2,25 MHz Rail, single sine pulse, 0deg XL9-11/Result-Binaries//data3d_at_t_30.bov\", \"/media/data/Simulation Data/2,25 MHz Rail, single sine pulse, 0deg XL9-11/Result-Binaries//data3d_at_t_40.bov\", \"/media/data/Simulation Data/2,25 MHz Rail, single sine pulse, 0deg XL9-11/Result-Binaries//data3d_at_t_50.bov\", \"/media/data/Simulation Data/2,25 MHz Rail, single sine pulse, 0deg XL9-11/Result-Binaries//data3d_at_t_60.bov\", \"/media/data/Simulation Data/2,25 MHz Rail, single sine pulse, 0deg XL9-11/Result-Binaries//data3d_at_t_70.bov\", \"/media/data/Simulation Data/2,25 MHz Rail, single sine pulse, 0deg XL9-11/Result-Binaries//data3d_at_t_80.bov\", \"/media/data/Simulation Data/2,25 MHz Rail, single sine pulse, 0deg XL9-11/Result-Binaries//data3d_at_t_90.bov\"  …  \"/media/data/Simulation Data/2,25 MHz Rail, single sine pulse, 0deg XL9-11/Result-Binaries//data3d_at_t_2910.bov\", \"/media/data/Simulation Data/2,25 MHz Rail, single sine pulse, 0deg XL9-11/Result-Binaries//data3d_at_t_2920.bov\", \"/media/data/Simulation Data/2,25 MHz Rail, single sine pulse, 0deg XL9-11/Result-Binaries//data3d_at_t_2930.bov\", \"/media/data/Simulation Data/2,25 MHz Rail, single sine pulse, 0deg XL9-11/Result-Binaries//data3d_at_t_2940.bov\", \"/media/data/Simulation Data/2,25 MHz Rail, single sine pulse, 0deg XL9-11/Result-Binaries//data3d_at_t_2950.bov\", \"/media/data/Simulation Data/2,25 MHz Rail, single sine pulse, 0deg XL9-11/Result-Binaries//data3d_at_t_2960.bov\", \"/media/data/Simulation Data/2,25 MHz Rail, single sine pulse, 0deg XL9-11/Result-Binaries//data3d_at_t_2970.bov\", \"/media/data/Simulation Data/2,25 MHz Rail, single sine pulse, 0deg XL9-11/Result-Binaries//data3d_at_t_2980.bov\", \"/media/data/Simulation Data/2,25 MHz Rail, single sine pulse, 0deg XL9-11/Result-Binaries//data3d_at_t_2990.bov\", \"/media/data/Simulation Data/2,25 MHz Rail, single sine pulse, 0deg XL9-11/Result-Binaries//data3d_at_t_3000.bov\"]"
      ]
     },
     "metadata": {},
     "output_type": "display_data"
    }
   ],
   "source": [
    "dirNew = \"/media/data/2022 Data/RailTest_2,5MHz_14_May/\"\n",
    "dirOld = \"/media/data/Simulation Data/2,25 MHz Rail, single sine pulse, 0deg XL9-11/Result-Binaries/\"\n",
    "bovs = [sortPaths(dirNew),sortPaths(dirOld)]"
   ]
  },
  {
   "cell_type": "markdown",
   "metadata": {},
   "source": [
    "# 2D Slices"
   ]
  },
  {
   "cell_type": "markdown",
   "metadata": {},
   "source": [
    "# Composite"
   ]
  },
  {
   "cell_type": "code",
   "execution_count": 59,
   "metadata": {},
   "outputs": [
    {
     "ename": "SystemError",
     "evalue": "SystemError: opening file \"/media/data/2022 Data/RailTest_2,5MHz_14_May//data-10.bov\": No such file or directory",
     "output_type": "error",
     "traceback": [
      "SystemError: opening file \"/media/data/2022 Data/RailTest_2,5MHz_14_May//data-10.bov\": No such file or directory\n",
      "\n",
      "Stacktrace:\n",
      "  [1] systemerror(p::String, errno::Int32; extrainfo::Nothing)\n",
      "    @ Base ./error.jl:174\n",
      "  [2] #systemerror#68\n",
      "    @ ./error.jl:173 [inlined]\n",
      "  [3] systemerror\n",
      "    @ ./error.jl:173 [inlined]\n",
      "  [4] open(fname::String; lock::Bool, read::Nothing, write::Nothing, create::Nothing, truncate::Nothing, append::Nothing)\n",
      "    @ Base ./iostream.jl:293\n",
      "  [5] open\n",
      "    @ ./iostream.jl:282 [inlined]\n",
      "  [6] open(f::Main.EFIT.var\"#11#12\"{String}, args::String; kwargs::Base.Pairs{Symbol, Union{}, Tuple{}, NamedTuple{(), Tuple{}}})\n",
      "    @ Base ./io.jl:328\n",
      "  [7] open\n",
      "    @ ./io.jl:328 [inlined]\n",
      "  [8] readBOV(path::String)\n",
      "    @ Main.EFIT ~/Desktop/AnisoEFITJulia/EFITModule/EFIT.jl:286\n",
      "  [9] top-level scope\n",
      "    @ ~/Desktop/AnisoEFITJulia/BOVRenderSideBySide.ipynb:1\n",
      " [10] eval\n",
      "    @ ./boot.jl:373 [inlined]\n",
      " [11] include_string(mapexpr::typeof(REPL.softscope), mod::Module, code::String, filename::String)\n",
      "    @ Base ./loading.jl:1196\n",
      " [12] #invokelatest#2\n",
      "    @ ./essentials.jl:716 [inlined]\n",
      " [13] invokelatest\n",
      "    @ ./essentials.jl:714 [inlined]\n",
      " [14] (::VSCodeServer.var\"#164#165\"{VSCodeServer.NotebookRunCellArguments, String})()\n",
      "    @ VSCodeServer ~/.vscode/extensions/julialang.language-julia-1.6.17/scripts/packages/VSCodeServer/src/serve_notebook.jl:19\n",
      " [15] withpath(f::VSCodeServer.var\"#164#165\"{VSCodeServer.NotebookRunCellArguments, String}, path::String)\n",
      "    @ VSCodeServer ~/.vscode/extensions/julialang.language-julia-1.6.17/scripts/packages/VSCodeServer/src/repl.jl:184\n",
      " [16] notebook_runcell_request(conn::VSCodeServer.JSONRPC.JSONRPCEndpoint{Base.PipeEndpoint, Base.PipeEndpoint}, params::VSCodeServer.NotebookRunCellArguments)\n",
      "    @ VSCodeServer ~/.vscode/extensions/julialang.language-julia-1.6.17/scripts/packages/VSCodeServer/src/serve_notebook.jl:13\n",
      " [17] dispatch_msg(x::VSCodeServer.JSONRPC.JSONRPCEndpoint{Base.PipeEndpoint, Base.PipeEndpoint}, dispatcher::VSCodeServer.JSONRPC.MsgDispatcher, msg::Dict{String, Any})\n",
      "    @ VSCodeServer.JSONRPC ~/.vscode/extensions/julialang.language-julia-1.6.17/scripts/packages/JSONRPC/src/typed.jl:67\n",
      " [18] serve_notebook(pipename::String, outputchannel_logger::Base.CoreLogging.SimpleLogger; crashreporting_pipename::String)\n",
      "    @ VSCodeServer ~/.vscode/extensions/julialang.language-julia-1.6.17/scripts/packages/VSCodeServer/src/serve_notebook.jl:136\n",
      " [19] top-level scope\n",
      "    @ ~/.vscode/extensions/julialang.language-julia-1.6.17/scripts/notebook/notebook.jl:32\n",
      " [20] include(mod::Module, _path::String)\n",
      "    @ Base ./Base.jl:418\n",
      " [21] exec_options(opts::Base.JLOptions)\n",
      "    @ Base ./client.jl:292\n",
      " [22] _start()\n",
      "    @ Base ./client.jl:495"
     ]
    }
   ],
   "source": [
    "dataA = Main.EFIT.readBOV(bovs[1][1]);\n",
    "dataB = Main.EFIT.readBOV(bovs[2][1]);\n",
    "\n",
    "fig = Figure()\n",
    "\n",
    "crange =(0, 1e6)\n",
    "cmap=:curl \n",
    "\n",
    "\n",
    "Main.EFIT.readBOV!(dataA, bovs[1][1])\n",
    "Main.EFIT.readBOV!(dataB, bovs[2][1])\n",
    "\n",
    "fig[1,1] = Axis(fig, title = \"New simulation\")\n",
    "aplt = heatmap!(fig[1,1],dataA[:,floor(Int,end/2),:],colorrange = (0,0.01),colormap=cmap)\n",
    "\n",
    "fig[1,2] = Axis(fig, title = \"Old simulation\")\n",
    "bplt = heatmap!(fig[1,2],dataB[:,floor(Int,end/2),:],colorrange = (0,0.01),colormap=cmap)\n",
    "\n",
    "record(fig, \"Animation_Composite.mp4\", 1:size(bovs[1],1); framerate = 30) do i\n",
    "    Main.EFIT.readBOV!(dataA, bovs[1][i])\n",
    "    Main.EFIT.readBOV!(dataB, bovs[2][i])\n",
    "    println(bovs[2][i])\n",
    "\n",
    "    aplt[1] = dataA[:,floor(Int,end/2),:]\n",
    "    bplt[1] = dataB[:,floor(Int,end/2),:]\n",
    "\n",
    "end"
   ]
  }
 ],
 "metadata": {
  "kernelspec": {
   "display_name": "Julia 1.7.2",
   "language": "julia",
   "name": "julia-1.7"
  },
  "language_info": {
   "file_extension": ".jl",
   "mimetype": "application/julia",
   "name": "julia",
   "version": "1.7.2"
  },
  "orig_nbformat": 4
 },
 "nbformat": 4,
 "nbformat_minor": 2
}
