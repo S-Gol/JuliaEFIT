{
 "cells": [
  {
   "cell_type": "code",
   "execution_count": 1,
   "source": [
    "using Revise\r\n",
    "\r\n",
    "include(\"EFITModule/EFIT.jl\")\r\n",
    "Threads.nthreads()"
   ],
   "outputs": [
    {
     "output_type": "execute_result",
     "data": {
      "text/plain": [
       "1"
      ]
     },
     "metadata": {},
     "execution_count": 1
    }
   ],
   "metadata": {}
  },
  {
   "cell_type": "code",
   "execution_count": 2,
   "source": [
    "#Material declarations\r\n",
    "\r\n",
    "materials = [Main.EFIT.IsoMat(3300.0, 1905.0, 2800.0)]\r\n",
    "\r\n",
    "matGrid = ones(Int32, 100, 100, 100)\r\n",
    "grid = Main.EFIT.EFITGrid(matGrid,materials,1,1);\r\n",
    "\r\n",
    "println(\"Started\")\r\n",
    "for i in 1:100\r\n",
    "    Main.EFIT.IsoStep!(grid)\r\n",
    "end"
   ],
   "outputs": [],
   "metadata": {}
  },
  {
   "cell_type": "code",
   "execution_count": 1,
   "source": [
    "using StaticArrays\r\n",
    "s1 = SA_F32[0 0; 0 0]\r\n",
    "a = Array{StaticMatrix{3,3,Float32,9}}\r\n",
    "typeof(s1)"
   ],
   "outputs": [
    {
     "output_type": "error",
     "ename": "LoadError",
     "evalue": "TypeError: in Type, in parameter, expected Type, got a value of type MMatrix{3, 3, Float64, 9}",
     "traceback": [
      "TypeError: in Type, in parameter, expected Type, got a value of type MMatrix{3, 3, Float64, 9}",
      "",
      "Stacktrace:",
      " [1] top-level scope",
      "   @ In[1]:3",
      " [2] eval",
      "   @ .\\boot.jl:373 [inlined]",
      " [3] include_string(mapexpr::typeof(REPL.softscope), mod::Module, code::String, filename::String)",
      "   @ Base .\\loading.jl:1196"
     ]
    }
   ],
   "metadata": {}
  }
 ],
 "metadata": {
  "orig_nbformat": 4,
  "language_info": {
   "file_extension": ".jl",
   "name": "julia",
   "mimetype": "application/julia",
   "version": "1.7.2"
  },
  "kernelspec": {
   "name": "julia-1.7",
   "display_name": "Julia 1.7.2",
   "language": "julia"
  }
 },
 "nbformat": 4,
 "nbformat_minor": 2
}