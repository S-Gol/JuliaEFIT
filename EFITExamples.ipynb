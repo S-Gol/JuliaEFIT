{
 "cells": [
  {
   "cell_type": "code",
   "execution_count": 1,
   "source": [
    "using Revise\r\n",
    "\r\n",
    "include(\"EFITModule/EFIT.jl\")\r\n",
    "Threads.nthreads()"
   ],
   "outputs": [
    {
     "output_type": "execute_result",
     "data": {
      "text/plain": [
       "1"
      ]
     },
     "metadata": {},
     "execution_count": 1
    }
   ],
   "metadata": {}
  },
  {
   "cell_type": "code",
   "execution_count": 2,
   "source": [
    "#Material declarations\r\n",
    "\r\n",
    "materials = [Main.EFIT.IsoMat(3300.0, 1905.0, 2800.0)]\r\n",
    "\r\n",
    "matGrid = ones(Int32, 100, 100, 100)\r\n",
    "grid = Main.EFIT.EFITGrid(matGrid,materials,1,1);\r\n",
    "\r\n",
    "println(\"Started\")\r\n",
    "for i in 1:100\r\n",
    "    Main.EFIT.IsoStep!(grid)\r\n",
    "end"
   ],
   "outputs": [],
   "metadata": {}
  },
  {
   "cell_type": "code",
   "execution_count": 10,
   "source": [
    "size = [32,32,32]\r\n",
    "nPerBlock = 10\r\n",
    "nBlocks = ceil.(float(size)/float(nPerBlock))\r\n",
    "indices = Vector{CartesianIndices}()\r\n",
    "\r\n",
    "for i in 1:nBlocks[1]\r\n",
    "    for j in 1:nBlocks[2]\r\n",
    "        for k in 1:nBlocks[3]\r\n",
    "            x = Int(min(nPerBlock * (i+1),size[1]))\r\n",
    "            y = Int(min(nPerBlock * (j+1),size[2]))\r\n",
    "            z = Int(min(nPerBlock * (k+1),size[3]))\r\n",
    "            append!(indices, CartesianIndices((i*nPerBlock:x, j*nPerBlock:y, k*nPerBlock:z)))\r\n",
    "        end\r\n",
    "    end\r\n",
    "end\r\n",
    "indices"
   ],
   "outputs": [
    {
     "output_type": "error",
     "ename": "LoadError",
     "evalue": "MethodError: no method matching CartesianIndices(::StepRangeLen{Float64, Base.TwicePrecision{Float64}, Base.TwicePrecision{Float64}, Int64}, ::StepRangeLen{Float64, Base.TwicePrecision{Float64}, Base.TwicePrecision{Float64}, Int64}, ::StepRangeLen{Float64, Base.TwicePrecision{Float64}, Base.TwicePrecision{Float64}, Int64})\n\u001b[0mClosest candidates are:\n\u001b[0m  CartesianIndices(::AbstractArray) at C:\\Users\\sethg\\AppData\\Local\\Programs\\Julia-1.7.2\\share\\julia\\base\\multidimensional.jl:280",
     "traceback": [
      "MethodError: no method matching CartesianIndices(::StepRangeLen{Float64, Base.TwicePrecision{Float64}, Base.TwicePrecision{Float64}, Int64}, ::StepRangeLen{Float64, Base.TwicePrecision{Float64}, Base.TwicePrecision{Float64}, Int64}, ::StepRangeLen{Float64, Base.TwicePrecision{Float64}, Base.TwicePrecision{Float64}, Int64})\n\u001b[0mClosest candidates are:\n\u001b[0m  CartesianIndices(::AbstractArray) at C:\\Users\\sethg\\AppData\\Local\\Programs\\Julia-1.7.2\\share\\julia\\base\\multidimensional.jl:280",
      "",
      "Stacktrace:",
      " [1] top-level scope",
      "   @ .\\In[10]:12",
      " [2] eval",
      "   @ .\\boot.jl:373 [inlined]",
      " [3] include_string(mapexpr::typeof(REPL.softscope), mod::Module, code::String, filename::String)",
      "   @ Base .\\loading.jl:1196"
     ]
    }
   ],
   "metadata": {}
  }
 ],
 "metadata": {
  "orig_nbformat": 4,
  "language_info": {
   "file_extension": ".jl",
   "name": "julia",
   "mimetype": "application/julia",
   "version": "1.7.2"
  },
  "kernelspec": {
   "name": "julia-1.7",
   "display_name": "Julia 1.7.2",
   "language": "julia"
  }
 },
 "nbformat": 4,
 "nbformat_minor": 2
}