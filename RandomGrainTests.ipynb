{
 "cells": [
  {
   "cell_type": "code",
   "execution_count": 106,
   "source": [
    "using Revise\r\n",
    "using GLMakie\r\n",
    "include(\"EFITModule/EFIT.jl\")\r\n",
    "using BenchmarkTools\r\n"
   ],
   "outputs": [
    {
     "output_type": "stream",
     "name": "stderr",
     "text": [
      "WARNING: replacing module EFIT.\n"
     ]
    }
   ],
   "metadata": {}
  },
  {
   "cell_type": "code",
   "execution_count": 175,
   "source": [
    "nx = ny = nz = 70\r\n",
    "\r\n",
    "nGrains = 10000\r\n",
    "\r\n",
    "\r\n",
    "#Maximum sound speed in the model\r\n",
    "c = 8000\r\n",
    "#Frequency, hz\r\n",
    "f0=1e6\r\n",
    "#Period\r\n",
    "t0 = 1.00 / f0\r\n",
    "#Maximum spatial increment\r\n",
    "dx = c/(8*f0)\r\n",
    "#Maximum time increment\r\n",
    "dt = dx/(c*sqrt(3))\r\n",
    "\r\n",
    "baseMat = Main.EFIT.AnisoMats[\"X6CrNi1811\"]\r\n",
    "c = baseMat.c\r\n",
    "ρ = baseMat.ρ\r\n",
    "materials = Array{Main.EFIT.AnisoMat,1}()"
   ],
   "outputs": [
    {
     "output_type": "execute_result",
     "data": {
      "text/plain": [
       "Main.EFIT.AnisoMat[]"
      ]
     },
     "metadata": {},
     "execution_count": 175
    }
   ],
   "metadata": {}
  },
  {
   "cell_type": "code",
   "execution_count": 176,
   "source": [
    "function initFloodFill!(nx::Number,ny::Number,nz::Number, nGrains::Number, matGrid::Array{Int,3}, positions::Array{Int,2})\r\n",
    "    Qs = Array{Array{CartesianIndex}}(undef, nGrains)\r\n",
    "    offsets = [CartesianIndex(-1,0,0),CartesianIndex(1,0,0),CartesianIndex(0,-1,0),CartesianIndex(0,1,0),CartesianIndex(0,0,-1),CartesianIndex(0,0,1)]\r\n",
    "    #Initialize the queue\r\n",
    "    for i in 1:size(positions,1)\r\n",
    "        p = CartesianIndex(positions[i,1],positions[i,2],positions[i,3])\r\n",
    "        Qs[i] = Array{CartesianIndex,1}()\r\n",
    "        matGrid[p]=i\r\n",
    "        for o in offsets\r\n",
    "            new = p + o\r\n",
    "            if new[1] < nx && new[1] > 0 && new[2] < ny && new[2] > 0 && new[3] < nz && new[3] > 0\r\n",
    "                if matGrid[new] == 0\r\n",
    "                    push!(Qs[i], new)\r\n",
    "                end\r\n",
    "            end\r\n",
    "        end\r\n",
    "    end\r\n",
    "    return Qs\r\n",
    "end"
   ],
   "outputs": [
    {
     "output_type": "execute_result",
     "data": {
      "text/plain": [
       "initFloodFill! (generic function with 1 method)"
      ]
     },
     "metadata": {},
     "execution_count": 176
    }
   ],
   "metadata": {}
  },
  {
   "cell_type": "code",
   "execution_count": 186,
   "source": [
    "const offsets = [CartesianIndex(-1,0,0),CartesianIndex(1,0,0),CartesianIndex(0,-1,0),CartesianIndex(0,1,0),CartesianIndex(0,0,-1),CartesianIndex(0,0,1)]\r\n",
    "\r\n",
    "function stepFloodFill!(matGrid::Array{Int,3}, Qs::Array{Array{CartesianIndex}})\r\n",
    "    length::Int = 0\r\n",
    "    \r\n",
    "    for i in 1:size(Qs,1)\r\n",
    "        if size(Qs[i],1) > 0\r\n",
    "            q0 = popfirst!(Qs[i])\r\n",
    "            if matGrid[q0] == 0\r\n",
    "                matGrid[q0] = i\r\n",
    "                \r\n",
    "                for o in offsets\r\n",
    "                    new = q0 + o\r\n",
    "                    if new[1] <= nx && new[1] > 0 && new[2] <= ny && new[2] > 0 && new[3] <= nz && new[3] > 0\r\n",
    "                        if matGrid[new] == 0\r\n",
    "                            pushfirst!(Qs[i], new)\r\n",
    "                            length += 1 \r\n",
    "                        end\r\n",
    "                    end\r\n",
    "                end\r\n",
    "            end\r\n",
    "        end\r\n",
    "    end\r\n",
    "    return length\r\n",
    "    \r\n",
    "end"
   ],
   "outputs": [
    {
     "output_type": "stream",
     "name": "stderr",
     "text": [
      "WARNING: redefinition of constant offsets. This may fail, cause incorrect answers, or produce other errors.\n"
     ]
    },
    {
     "output_type": "execute_result",
     "data": {
      "text/plain": [
       "stepFloodFill! (generic function with 2 methods)"
      ]
     },
     "metadata": {},
     "execution_count": 186
    }
   ],
   "metadata": {}
  },
  {
   "cell_type": "code",
   "execution_count": 181,
   "source": [
    "#matGrid = zeros(Int,nx,ny,nz)\r\n",
    "cmap=:curl\r\n",
    "fig = Figure()\r\n",
    "#ax = LScene(fig[1,1])\r\n",
    "fig[1,1] = Axis(fig[1,1])\r\n",
    "plt = heatmap!(fig[1,1], matGrid[floor(Int,end/2), :,:],colormap=cmap)\r\n",
    "#plt = volume!(fig[1,1], matGrid, colormap=cmap,colorrange=(0,nGrains*2))\r\n",
    "#plt = volume!(fig[1,1], matGrid, algorithm = :iso, isorange = 1000, isovalue = 1000)\r\n",
    "display(fig)"
   ],
   "outputs": [
    {
     "output_type": "execute_result",
     "data": {
      "text/plain": [
       "GLMakie.Screen(...)"
      ]
     },
     "metadata": {},
     "execution_count": 181
    }
   ],
   "metadata": {}
  },
  {
   "cell_type": "code",
   "execution_count": 182,
   "source": [
    "matGrid = zeros(Int,nx,ny,nz)\r\n",
    "positions = reduce(hcat,[rand(1:nx, nGrains),rand(1:ny, nGrains),rand(1:nz, nGrains)]);\r\n",
    "Qs = initFloodFill!(nx,ny,nz,nGrains,matGrid,positions);\r\n"
   ],
   "outputs": [],
   "metadata": {}
  },
  {
   "cell_type": "code",
   "execution_count": 188,
   "source": [
    "count = 1\r\n",
    "while count > 0\r\n",
    "    count = stepFloodFill!(matGrid, Qs)\r\n",
    "    plt[1] = matGrid[floor(Int,end/2), :,:];\r\n",
    "    println(count)\r\n",
    "end    "
   ],
   "outputs": [
    {
     "output_type": "stream",
     "name": "stdout",
     "text": [
      "40955\n",
      "36040\n",
      "39932\n",
      "31344\n",
      "26283\n",
      "25281\n",
      "24243\n",
      "21383\n",
      "21340\n",
      "7921\n",
      "23889\n",
      "21300\n",
      "23199\n",
      "16138\n",
      "8454\n",
      "17737\n",
      "16895\n",
      "17873\n",
      "13405\n",
      "8039\n",
      "10814\n",
      "5053\n",
      "8155\n",
      "11422\n",
      "7479\n",
      "9864\n",
      "6239\n",
      "8262\n",
      "10412\n",
      "6105\n",
      "6785\n",
      "7383\n",
      "8536\n",
      "11163\n",
      "10607\n",
      "9409\n",
      "8557\n",
      "8232\n",
      "6945\n",
      "7653\n",
      "7366\n",
      "6869\n",
      "6205\n",
      "6875\n",
      "6582\n",
      "6184\n",
      "5560\n",
      "5389\n",
      "5886\n",
      "6055\n",
      "5256\n",
      "5397\n",
      "5206\n",
      "5913\n",
      "5664\n",
      "4985\n",
      "4983\n",
      "5007\n",
      "4300\n",
      "4210\n",
      "4333\n",
      "4490\n",
      "4051\n",
      "3797\n",
      "3991\n",
      "3944\n",
      "3456\n",
      "3574\n",
      "3416\n",
      "3351\n",
      "3423\n",
      "3187\n",
      "2950\n",
      "3002\n",
      "2743\n",
      "2576\n",
      "2508\n",
      "2465\n",
      "2373\n",
      "2307\n",
      "2112\n",
      "2128\n",
      "1938\n",
      "1733\n",
      "1676\n",
      "1650\n",
      "1494\n",
      "1449\n",
      "1316\n",
      "1355\n",
      "1270\n",
      "1069\n",
      "1074\n",
      "929\n",
      "901\n",
      "764\n",
      "789\n",
      "663\n",
      "598\n",
      "556\n",
      "541\n",
      "503\n",
      "453\n",
      "439\n",
      "409\n",
      "367\n",
      "320\n",
      "315\n",
      "264\n",
      "280\n",
      "242\n",
      "185\n",
      "180\n",
      "151\n",
      "141\n",
      "101\n",
      "92\n",
      "100\n",
      "94\n",
      "88\n",
      "56\n",
      "53\n",
      "65\n",
      "49\n",
      "47\n",
      "52\n",
      "38\n",
      "17\n",
      "38\n",
      "40\n",
      "22\n",
      "11\n",
      "21\n",
      "10\n",
      "20\n",
      "13\n",
      "15\n",
      "15\n",
      "17\n",
      "14\n",
      "6\n",
      "7\n",
      "1\n",
      "2\n",
      "1\n",
      "1\n",
      "0\n"
     ]
    }
   ],
   "metadata": {}
  }
 ],
 "metadata": {
  "orig_nbformat": 4,
  "language_info": {
   "file_extension": ".jl",
   "name": "julia",
   "mimetype": "application/julia",
   "version": "1.7.2"
  },
  "kernelspec": {
   "name": "julia-1.7",
   "display_name": "Julia 1.7.2",
   "language": "julia"
  }
 },
 "nbformat": 4,
 "nbformat_minor": 2
}