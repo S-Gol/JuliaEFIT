{
 "cells": [
  {
   "cell_type": "code",
   "execution_count": 1,
   "source": [
    "using Revise\r\n",
    "using GLMakie\r\n",
    "include(\"EFITModule/EFIT.jl\")\r\n",
    "include(\"VoronoiGen.jl\")\r\n",
    "using BenchmarkTools"
   ],
   "outputs": [],
   "metadata": {}
  },
  {
   "cell_type": "code",
   "execution_count": 2,
   "source": [
    "using ParallelStencil\r\n",
    "using ParallelStencil.FiniteDifferences3D\r\n",
    "using GLMakie\r\n",
    "\r\n",
    "ParallelStencil.@reset_parallel_stencil()\r\n",
    "USE_GPU = false\r\n",
    "@static if USE_GPU\r\n",
    "    @init_parallel_stencil(CUDA, Float32, 3)\r\n",
    "else\r\n",
    "    @init_parallel_stencil(Threads, Float32, 3)\r\n",
    "end"
   ],
   "outputs": [],
   "metadata": {}
  },
  {
   "cell_type": "code",
   "execution_count": 3,
   "source": [
    "nx = ny = nz = 100\r\n",
    "\r\n",
    "nGrains = 1000\r\n",
    "\r\n",
    "\r\n",
    "#Maximum sound speed in the model\r\n",
    "c = 8000\r\n",
    "#Frequency, hz\r\n",
    "f0=1e6\r\n",
    "#Period\r\n",
    "t0 = 1.00 / f0\r\n",
    "#Maximum spatial increment\r\n",
    "dx = c/(8*f0)\r\n",
    "#Maximum time increment\r\n",
    "dt = dx/(c*sqrt(3))\r\n",
    "\r\n",
    "baseMat = Main.EFIT.AnisoMats[\"X6CrNi1811\"]\r\n",
    "c = baseMat.c\r\n",
    "ρ = baseMat.ρ\r\n",
    "materials = Array{Main.EFIT.AnisoMat,1}()"
   ],
   "outputs": [
    {
     "output_type": "execute_result",
     "data": {
      "text/plain": [
       "Main.EFIT.AnisoMat[]"
      ]
     },
     "metadata": {},
     "execution_count": 3
    }
   ],
   "metadata": {}
  },
  {
   "cell_type": "code",
   "execution_count": 4,
   "source": [
    "matGrid = fullRandomGen(nx,ny,nz,nGrains);"
   ],
   "outputs": [
    {
     "output_type": "error",
     "ename": "LoadError",
     "evalue": "UndefVarError: plt not defined",
     "traceback": [
      "UndefVarError: plt not defined",
      "",
      "Stacktrace:",
      " [1] fullRandomGen(nx::Int64, ny::Int64, nz::Int64, nSeeds::Int64)",
      "   @ Main c:\\College\\Research\\AnisoEFITJulia\\VoronoiGen.jl:55",
      " [2] top-level scope",
      "   @ In[4]:1",
      " [3] eval",
      "   @ .\\boot.jl:373 [inlined]",
      " [4] include_string(mapexpr::typeof(REPL.softscope), mod::Module, code::String, filename::String)",
      "   @ Base .\\loading.jl:1196"
     ]
    }
   ],
   "metadata": {}
  },
  {
   "cell_type": "code",
   "execution_count": null,
   "source": [
    "for i in 1:nGrains+2\r\n",
    "    rx = rand(Float32)*180\r\n",
    "    ry = rand(Float32)*180\r\n",
    "    rz = rand(Float32)*180\r\n",
    "\r\n",
    "    mat = Main.EFIT.AnisoMat(ρ, Main.EFIT.rotateMatrix(c,rx,ry,rz))\r\n",
    "    push!(materials, mat)\r\n",
    "end"
   ],
   "outputs": [],
   "metadata": {}
  },
  {
   "cell_type": "code",
   "execution_count": null,
   "source": [
    "grid = Main.EFIT.EFITGrid(Int16.(matGrid.+1),materials,dt,dx);\r\n",
    "\r\n",
    "\r\n",
    "#Create a source function from which input can be taken\r\n",
    "function source(t)\r\n",
    "    v = exp(-((2*(t-2*t0)/(t0))^2))*sin(2*pi*f0*t)*0.1\r\n",
    "    return Data.Number(v)\r\n",
    "end\r\n",
    "nframes = 200\r\n",
    "framerate = 30\r\n",
    "\r\n",
    "tIterator = 0:grid.dt:grid.dt*nframes\r\n",
    "fig,ax,plt = volume(Array(grid.vx),algorithm=:mip,colorrange = (0, 0.04),colormap=:curl, transparency=true)\r\n",
    "\r\n",
    "#Step the simulation\r\n",
    "function stepSim(t)\r\n",
    "    println(t)\r\n",
    "    #Isotropic step function\r\n",
    "    Main.EFIT.SimStep!(grid)\r\n",
    "    #Apply the source to the Z-direction\r\n",
    "    @parallel (45:55,45:55,98:98) Main.EFIT.applySource!(grid.vx,grid.vy,grid.vz, Data.Number(0.0), Data.Number(0.0), (source(t)))\r\n",
    "\r\n",
    "    #Update the plot\r\n",
    "    plt.volume = sqrt.(grid.vx.^2 .+ grid.vy.^2 .+ grid.vz.^2)\r\n",
    "end\r\n",
    "\r\n",
    "record(stepSim, fig, \"color_animation.mp4\", tIterator; framerate = 30)"
   ],
   "outputs": [
    {
     "output_type": "stream",
     "name": "stdout",
     "text": [
      "\n",
      "Creating grid of size 200, 200, 200\n",
      "\n",
      "\n",
      "Initialized averaging dict, hashed 84989 material combinations\n",
      "\n"
     ]
    },
    {
     "output_type": "display_data",
     "data": {
      "text/plain": [
       "Dict{Int64, Matrix{Float32}} with 84989 entries:\n",
       "  198722776688754709 => [4.05797f10 1.2236f10 … 4.0452f10 1.80484f7; 1.2236f10 …\n",
       "  261493805356351652 => [4.24232f11 1.10663f11 … 1.50672f11 -2.35091f9; 1.10663…\n",
       "  252205427447628145 => [9.83402f10 3.19828f10 … 1.97931f10 -1.3968f9; 3.19828f…\n",
       "  268811098172752453 => [1.53673f11 8.15586f10 … 1.06756f11 7.17646f8; 8.15586f…\n",
       "  179020816820797950 => [2.22356f11 9.67309f10 … 6.82998f10 -1.56911f10; 9.6730…\n",
       "  192248620292636898 => [1.94178f10 1.48751f10 … 4.01874f10 1.23769f9; 1.48751f…\n",
       "  124695317373518132 => [1.14562f11 8.13509f10 … 1.52301f11 -4.82118f9; 8.13509…\n",
       "  215609922356051989 => [3.47162f10 1.19915f10 … 1.01734f10 -3.7832f9; 1.19915f…\n",
       "  223494168089461336 => [2.61973f11 1.15517f11 … 4.33361f10 5.2723f9; 1.15517f1…\n",
       "  101332537815793840 => [7.92566f10 1.95311f10 … 6.1568f10 4.39819f9; 1.95311f1…\n",
       "  254175782367002940 => [1.08866f11 5.14123f10 … 9.99308f10 4.46985f9; 5.14123f…\n",
       "  263182809786155083 => [1.46976f11 6.70874f10 … 9.71974f10 -3.20751f9; 6.70874…\n",
       "  204916110931263696 => [7.97334f10 4.28419f10 … 5.78135f10 -3.35418f9; 4.28419…\n",
       "  110621353791455568 => [8.08395f10 2.52615f10 … 2.04231f10 9.20955f9; 2.52615f…\n",
       "  101050268269871279 => [3.86283f11 1.3254f11 … 3.00847f11 8.16213f9; 1.3254f11…\n",
       "  192529639984988170 => [3.22734f10 7.18495f9 … 1.01642f10 9.00454f9; 7.18495f9…\n",
       "  64176316165193733  => [1.38808f11 5.583f10 … 8.2621f10 -1.36438f10; 5.583f10 …\n",
       "  253892108350849084 => [6.6539f10 2.05708f10 … -8.98074f9 -6.74265f9; 2.05708f…\n",
       "  229966052420223055 => [2.12045f11 5.41942f10 … 9.99668f10 1.16136f10; 5.41942…\n",
       "  281197792471745347 => [4.36385f11 1.10015f11 … 1.82917f11 -2.37893f10; 1.1001…\n",
       "  191123012448026958 => [1.60441f11 7.7104f10 … 1.19397f11 -8.53648f9; 7.7104f1…\n",
       "  216739039240651494 => [1.64996f10 9.83439f9 … 2.32286f10 1.21106f8; 9.83439f9…\n",
       "  103021413458116670 => [2.51497f10 2.59898f10 … 5.20901f10 -5.64117f9; 2.59898…\n",
       "  256146137286574417 => [1.19901f11 4.1945f10 … 5.17843f10 -1.24082f10; 4.1945f…\n",
       "  268812704515031856 => [2.58501f11 1.12566f11 … 2.12412f11 2.21618f10; 1.12566…\n",
       "  ⋮                  => ⋮"
      ]
     },
     "metadata": {}
    }
   ],
   "metadata": {}
  }
 ],
 "metadata": {
  "orig_nbformat": 4,
  "language_info": {
   "file_extension": ".jl",
   "name": "julia",
   "mimetype": "application/julia",
   "version": "1.7.2"
  },
  "kernelspec": {
   "name": "julia-1.7",
   "display_name": "Julia 1.7.2",
   "language": "julia"
  }
 },
 "nbformat": 4,
 "nbformat_minor": 2
}