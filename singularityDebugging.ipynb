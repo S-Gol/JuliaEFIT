{
 "cells": [
  {
   "cell_type": "code",
   "execution_count": 2,
   "source": [
    "using Revise\r\n",
    "using LinearAlgebra\r\n",
    "\r\n",
    "include(\"EFITModule/EFIT.jl\")"
   ],
   "outputs": [
    {
     "output_type": "execute_result",
     "data": {
      "text/plain": [
       "Main.EFIT"
      ]
     },
     "metadata": {},
     "execution_count": 2
    }
   ],
   "metadata": {}
  },
  {
   "cell_type": "code",
   "execution_count": 50,
   "source": [
    "c = Main.EFIT.AnisoMats[\"X6CrNi1811\"].c\r\n",
    "mats = Array{Matrix{Float32},1}()\r\n",
    "angles = Array{Tuple{Float64, Float64, Float64},1}()\r\n",
    "for i in 1:50000\r\n",
    "    rx = rand(Float32)*180.0\r\n",
    "    ry = rand(Float32)*180.0\r\n",
    "    rz = rand(Float32)*180.0\r\n",
    "    push!(angles, (rx,ry,rz))\r\n",
    "    push!(mats, Main.EFIT.rotateMatrix(c,rx,ry,rz))\r\n",
    "end"
   ],
   "outputs": [],
   "metadata": {}
  },
  {
   "cell_type": "code",
   "execution_count": 51,
   "source": [
    "catches = Array{Integer,1}()\r\n",
    "Threads.@threads for i in 1:size(mats,1)\r\n",
    "    try\r\n",
    "        inv(mats[i])\r\n",
    "    catch\r\n",
    "        push!(catches, i)\r\n",
    "    end\r\n",
    "end"
   ],
   "outputs": [],
   "metadata": {}
  },
  {
   "cell_type": "code",
   "execution_count": 52,
   "source": [
    "angles[catches]\r\n"
   ],
   "outputs": [
    {
     "output_type": "execute_result",
     "data": {
      "text/plain": [
       "23-element Vector{Tuple{Float64, Float64, Float64}}:\n",
       " (90.54372668266296, 87.14104413986206, 119.22342896461487)\n",
       " (90.38443565368652, 84.28420186042786, 166.7468512058258)\n",
       " (90.29054760932922, 65.08419871330261, 110.51852345466614)\n",
       " (89.72917199134827, 73.9897871017456, 121.71463251113892)\n",
       " (90.22952198982239, 112.48331665992737, 34.91549491882324)\n",
       " (90.13667464256287, 73.84295225143433, 114.62920188903809)\n",
       " (90.41345715522766, 97.91372895240784, 38.688472509384155)\n",
       " (89.98839139938354, 90.40583968162537, 24.687073230743408)\n",
       " (89.62373971939087, 111.13664388656616, 113.12165021896362)\n",
       " (89.70170617103577, 77.82242774963379, 111.23518824577332)\n",
       " (89.44802284240723, 92.47496008872986, 119.19710040092468)\n",
       " (89.69516158103943, 93.2030189037323, 13.485814332962036)\n",
       " (89.58866715431213, 92.12268948554993, 140.73121547698975)\n",
       " (89.67271685600281, 74.25478935241699, 148.45078468322754)\n",
       " (89.70263957977295, 108.07822823524475, 119.42710518836975)\n",
       " (90.43022632598877, 103.22080135345459, 41.74033284187317)\n",
       " (90.10025024414062, 101.64283633232117, 28.473258018493652)\n",
       " (90.40868282318115, 90.08282661437988, 70.14649271965027)\n",
       " (89.82942223548889, 84.14797782897949, 101.3249945640564)\n",
       " (89.53559160232544, 103.78827095031738, 62.16240406036377)\n",
       " (89.515700340271, 96.96563243865967, 137.90600180625916)\n",
       " (89.76473808288574, 103.82485628128052, 142.15318322181702)\n",
       " (90.34934163093567, 104.87843871116638, 111.56267523765564)"
      ]
     },
     "metadata": {},
     "execution_count": 52
    }
   ],
   "metadata": {}
  },
  {
   "cell_type": "code",
   "execution_count": 45,
   "source": [
    "for (k,p) in d\r\n",
    "    if p > 4\r\n",
    "        println(angles[k])\r\n",
    "    end\r\n",
    "end"
   ],
   "outputs": [
    {
     "output_type": "stream",
     "name": "stdout",
     "text": [
      "(90.12759804725647, 59.16380167007446, 44.25833702087402)\n",
      "(89.622323513031, 82.59690999984741, 35.62049746513367)\n"
     ]
    }
   ],
   "metadata": {}
  },
  {
   "cell_type": "code",
   "execution_count": 46,
   "source": [
    "angles[3721]"
   ],
   "outputs": [
    {
     "output_type": "execute_result",
     "data": {
      "text/plain": [
       "(55.20098805427551, 92.19023823738098, 112.31265306472778)"
      ]
     },
     "metadata": {},
     "execution_count": 46
    }
   ],
   "metadata": {}
  }
 ],
 "metadata": {
  "orig_nbformat": 4,
  "language_info": {
   "file_extension": ".jl",
   "name": "julia",
   "mimetype": "application/julia",
   "version": "1.7.2"
  },
  "kernelspec": {
   "name": "julia-1.7",
   "display_name": "Julia 1.7.2",
   "language": "julia"
  }
 },
 "nbformat": 4,
 "nbformat_minor": 2
}