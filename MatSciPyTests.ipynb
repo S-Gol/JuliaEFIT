{
 "cells": [
  {
   "cell_type": "code",
   "execution_count": 2,
   "metadata": {},
   "outputs": [],
   "source": [
    "import numpy as np\n",
    "import MatSciPyRotations\n"
   ]
  },
  {
   "cell_type": "code",
   "execution_count": 3,
   "metadata": {},
   "outputs": [
    {
     "name": "stdout",
     "output_type": "stream",
     "text": [
      "[[2.4110e+11 9.6900e+10 1.3800e+11 0.0000e+00 0.0000e+00 0.0000e+00]\n",
      " [9.6900e+10 2.4110e+11 1.3800e+11 0.0000e+00 0.0000e+00 0.0000e+00]\n",
      " [1.3800e+11 1.3800e+11 2.4000e+11 0.0000e+00 0.0000e+00 0.0000e+00]\n",
      " [0.0000e+00 0.0000e+00 0.0000e+00 1.1229e+11 0.0000e+00 0.0000e+00]\n",
      " [0.0000e+00 0.0000e+00 0.0000e+00 0.0000e+00 1.1229e+11 0.0000e+00]\n",
      " [0.0000e+00 0.0000e+00 0.0000e+00 0.0000e+00 0.0000e+00 7.2090e+10]]\n"
     ]
    }
   ],
   "source": [
    "stiffness=[[2.411e11, 9.69e10,1.38e11,0,0,0],\n",
    "    [9.69e10,2.411e11,1.38e11,0,0,0],\n",
    "    [1.38e11,1.38e11,2.4e11,0,0,0],\n",
    "    [0,0,0,1.1229e11,0,0],\n",
    "    [0,0,0,0,1.1229e11,0],\n",
    "    [0,0,0,0,0,7.209e10]\n",
    "]\n",
    "stiffness=np.array(stiffness)\n",
    "print(stiffness)"
   ]
  },
  {
   "cell_type": "code",
   "execution_count": 4,
   "metadata": {},
   "outputs": [
    {
     "data": {
      "text/plain": [
       "array([[ 2.41100e+11,  1.17450e+11,  1.17450e+11, -2.05500e+10,\n",
       "         0.00000e+00,  0.00000e+00],\n",
       "       [ 1.17450e+11,  3.01565e+11,  7.69850e+10,  2.75000e+08,\n",
       "         0.00000e+00,  0.00000e+00],\n",
       "       [ 1.17450e+11,  7.69850e+10,  3.01565e+11,  2.75000e+08,\n",
       "         0.00000e+00,  0.00000e+00],\n",
       "       [-2.05500e+10,  2.75000e+08,  2.75000e+08,  5.12750e+10,\n",
       "         0.00000e+00,  0.00000e+00],\n",
       "       [ 0.00000e+00,  0.00000e+00,  0.00000e+00,  0.00000e+00,\n",
       "         9.21900e+10, -2.01000e+10],\n",
       "       [ 0.00000e+00,  0.00000e+00,  0.00000e+00,  0.00000e+00,\n",
       "        -2.01000e+10,  9.21900e+10]])"
      ]
     },
     "execution_count": 4,
     "metadata": {},
     "output_type": "execute_result"
    }
   ],
   "source": [
    "from numpy import sin,cos,radians\n",
    "a = radians(45)\n",
    "b = radians(0)\n",
    "c = radians(0)\n",
    "rx = np.matrix([[1,0,0],[0,cos(a),-sin(a)],[0,sin(a),cos(a)]])\n",
    "ry = np.matrix([[cos(b),0,sin(b)],[0,1,0],[-sin(b),0,cos(b)]])\n",
    "\n",
    "rt = np.matmul(rx,ry)\n",
    "MatSciPyRotations.rotate_elastic_constants(stiffness,rt)\n"
   ]
  },
  {
   "cell_type": "code",
   "execution_count": 5,
   "metadata": {},
   "outputs": [
    {
     "data": {
      "text/plain": [
       "array([[ 2.41100e+11,  1.17450e+11,  1.17450e+11, -2.05500e+10,\n",
       "         0.00000e+00,  0.00000e+00],\n",
       "       [ 1.17450e+11,  3.01565e+11,  7.69850e+10,  2.75000e+08,\n",
       "         0.00000e+00,  0.00000e+00],\n",
       "       [ 1.17450e+11,  7.69850e+10,  3.01565e+11,  2.75000e+08,\n",
       "         0.00000e+00,  0.00000e+00],\n",
       "       [-2.05500e+10,  2.75000e+08,  2.75000e+08,  5.12750e+10,\n",
       "         0.00000e+00,  0.00000e+00],\n",
       "       [ 0.00000e+00,  0.00000e+00,  0.00000e+00,  0.00000e+00,\n",
       "         9.21900e+10, -2.01000e+10],\n",
       "       [ 0.00000e+00,  0.00000e+00,  0.00000e+00,  0.00000e+00,\n",
       "        -2.01000e+10,  9.21900e+10]])"
      ]
     },
     "execution_count": 5,
     "metadata": {},
     "output_type": "execute_result"
    }
   ],
   "source": [
    "rt = np.matmul(ry,rx)\n",
    "\n",
    "MatSciPyRotations.rotate_elastic_constants(stiffness,rt)\n"
   ]
  }
 ],
 "metadata": {
  "interpreter": {
   "hash": "95e6f7656b4d39fab674992f09c288fad53027ab735b3b064ae05f730549a971"
  },
  "kernelspec": {
   "display_name": "Python 3.7.9 64-bit",
   "language": "python",
   "name": "python3"
  },
  "language_info": {
   "codemirror_mode": {
    "name": "ipython",
    "version": 3
   },
   "file_extension": ".py",
   "mimetype": "text/x-python",
   "name": "python",
   "nbconvert_exporter": "python",
   "pygments_lexer": "ipython3",
   "version": "3.7.9"
  },
  "orig_nbformat": 4
 },
 "nbformat": 4,
 "nbformat_minor": 2
}
