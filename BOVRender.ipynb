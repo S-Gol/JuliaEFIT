{
 "cells": [
  {
   "cell_type": "code",
   "execution_count": 1,
   "source": [
    "using GLMakie\r\n",
    "using Revise\r\n",
    "include(\"EFITModule/EFIT.jl\")\r\n"
   ],
   "outputs": [
    {
     "output_type": "execute_result",
     "data": {
      "text/plain": [
       "Main.EFIT"
      ]
     },
     "metadata": {},
     "execution_count": 1
    }
   ],
   "metadata": {}
  },
  {
   "cell_type": "markdown",
   "source": [
    "# Initialize files"
   ],
   "metadata": {}
  },
  {
   "cell_type": "code",
   "execution_count": 2,
   "source": [
    "bovs = Vector{String}()\r\n",
    "dir = \"BOVTests/\"\r\n",
    "for f in readdir(dir)\r\n",
    "    fname, ftype = split(f,\".\")\r\n",
    "    if ftype == \"bov\"\r\n",
    "        push!(bovs,\"$dir/$f\")\r\n",
    "    end\r\n",
    "end\r\n",
    "data = Main.EFIT.readBOV(bovs[1]);\r\n",
    "print(size(data))"
   ],
   "outputs": [
    {
     "output_type": "stream",
     "name": "stdout",
     "text": [
      "(434, 358, 716)"
     ]
    }
   ],
   "metadata": {}
  },
  {
   "cell_type": "markdown",
   "source": [
    "# Volumetric animation"
   ],
   "metadata": {}
  },
  {
   "cell_type": "code",
   "execution_count": 3,
   "source": [
    "data = Main.EFIT.readBOV(bovs[1]);\r\n",
    "fig,ax,plt = volume(data,algorithm=:mip,colorrange = (0, 0.01),colormap=:curl, transparency=true)\r\n",
    "record(fig, \"Animation_Volume.mp4\", bovs; framerate = 30) do path\r\n",
    "    Main.EFIT.readBOV!(data, path)\r\n",
    "    plt.volume = data\r\n",
    "end"
   ],
   "outputs": [
    {
     "output_type": "execute_result",
     "data": {
      "text/plain": [
       "\"Animation_Volume.mp4\""
      ]
     },
     "metadata": {},
     "execution_count": 3
    }
   ],
   "metadata": {}
  },
  {
   "cell_type": "markdown",
   "source": [
    "# 2D Slices"
   ],
   "metadata": {}
  },
  {
   "cell_type": "markdown",
   "source": [
    "## X Slice"
   ],
   "metadata": {}
  },
  {
   "cell_type": "code",
   "execution_count": 4,
   "source": [
    "depth = 217\r\n",
    "data = Main.EFIT.readBOV(bovs[1]);\r\n",
    "fig,ax,plt = heatmap(data[depth,:,:],colorrange = (0, 0.01),colormap=:curl)\r\n",
    "record(fig, \"Animation_XSlice.mp4\", bovs; framerate = 30) do path\r\n",
    "    Main.EFIT.readBOV!(data, path)\r\n",
    "    plt.heatmap = data[depth,:,:]\r\n",
    "end"
   ],
   "outputs": [
    {
     "output_type": "execute_result",
     "data": {
      "text/plain": [
       "\"Animation_XSlice.mp4\""
      ]
     },
     "metadata": {},
     "execution_count": 4
    }
   ],
   "metadata": {}
  },
  {
   "cell_type": "markdown",
   "source": [
    "# Composite"
   ],
   "metadata": {}
  },
  {
   "cell_type": "code",
   "execution_count": 20,
   "source": [
    "xDepth = 217\r\n",
    "yDepth = 177\r\n",
    "zDepth = 358\r\n",
    "\r\n",
    "data = Main.EFIT.readBOV(bovs[1]);\r\n",
    "\r\n",
    "fig = Figure()\r\n",
    "\r\n",
    "lscene = LScene(fig[1, 1], scenekw = (camera = cam3d!, raw = false))\r\n",
    "\r\n",
    "fig[1,2] = Axis(fig, title = \"X Slice\")\r\n",
    "fig[2,1] = Axis(fig, title = \"Y Slice\")\r\n",
    "fig[2,2] = Axis(fig, title = \"Z Slice\")\r\n",
    "crange =(0, 0.01)\r\n",
    "cmap=:curl \r\n",
    "\r\n",
    "record(fig, \"Animation_Composite.mp4\", bovs; framerate = 30) do path\r\n",
    "    Main.EFIT.readBOV!(data, path)\r\n",
    "    volume!(lscene, data,algorithm=:mip,colorrange = (0, 0.01),colormap=:curl, transparency=true)\r\n",
    "    heatmap!(fig[1,2],data[floor(Int,end/2),:,:],colorrange = crange,colormap=cmap)\r\n",
    "    heatmap!(fig[2,1],data[:,floor(Int,end/2),:],colorrange = crange,colormap=cmap)\r\n",
    "    heatmap!(fig[2,2],data[:,:,floor(Int,end/2)],colorrange = crange,colormap=cmap)\r\n",
    "\r\n",
    "end"
   ],
   "outputs": [
    {
     "output_type": "execute_result",
     "data": {
      "text/plain": [
       "\"Animation_Composite.mp4\""
      ]
     },
     "metadata": {},
     "execution_count": 20
    }
   ],
   "metadata": {}
  }
 ],
 "metadata": {
  "orig_nbformat": 4,
  "language_info": {
   "file_extension": ".jl",
   "name": "julia",
   "mimetype": "application/julia",
   "version": "1.7.2"
  },
  "kernelspec": {
   "name": "julia-1.7",
   "display_name": "Julia 1.7.2",
   "language": "julia"
  }
 },
 "nbformat": 4,
 "nbformat_minor": 2
}