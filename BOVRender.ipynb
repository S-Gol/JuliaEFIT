{
 "cells": [
  {
   "cell_type": "code",
   "execution_count": 21,
   "source": [
    "using GLMakie\r\n",
    "using Revise\r\n",
    "include(\"EFITModule/EFIT.jl\")\r\n"
   ],
   "outputs": [
    {
     "output_type": "stream",
     "name": "stderr",
     "text": [
      "WARNING: replacing module EFIT.\n"
     ]
    },
    {
     "output_type": "execute_result",
     "data": {
      "text/plain": [
       "Main.EFIT"
      ]
     },
     "metadata": {},
     "execution_count": 21
    }
   ],
   "metadata": {}
  },
  {
   "cell_type": "markdown",
   "source": [
    "# Initialize files"
   ],
   "metadata": {}
  },
  {
   "cell_type": "code",
   "execution_count": 23,
   "source": [
    "bovs = Vector{String}()\r\n",
    "dir = \"BOVTests/\"\r\n",
    "for f in readdir(dir)\r\n",
    "    fname, ftype = split(f,\".\")\r\n",
    "    if ftype == \"bov\"\r\n",
    "        push!(bovs,\"$dir/$f\")\r\n",
    "    end\r\n",
    "end\r\n",
    "data = Main.EFIT.readBOV(bovs[1]);\r\n",
    "print(size(data))"
   ],
   "outputs": [
    {
     "output_type": "stream",
     "name": "stdout",
     "text": [
      "(434, 358, 716)"
     ]
    }
   ],
   "metadata": {}
  },
  {
   "cell_type": "markdown",
   "source": [
    "# Volumetric animation"
   ],
   "metadata": {}
  },
  {
   "cell_type": "code",
   "execution_count": 3,
   "source": [
    "data = Main.EFIT.readBOV(bovs[1]);\r\n",
    "fig,ax,plt = volume(data,algorithm=:mip,colorrange = (0, 0.01),colormap=:curl, transparency=true)\r\n",
    "record(fig, \"Animation_Volume.mp4\", bovs; framerate = 30) do path\r\n",
    "    Main.EFIT.readBOV!(data, path)\r\n",
    "    plt.volume = data\r\n",
    "end"
   ],
   "outputs": [
    {
     "output_type": "error",
     "ename": "SystemError",
     "evalue": "SystemError: opening file \"mediadata2022 DataRailTest_2,5MHz_3_May/DataDownsampled-10.bin\": No such file or directory",
     "traceback": [
      "SystemError: opening file \"mediadata2022 DataRailTest_2,5MHz_3_May/DataDownsampled-10.bin\": No such file or directory\n",
      "\n",
      "Stacktrace:\n",
      "  [1] systemerror(p::String, errno::Int32; extrainfo::Nothing)\n",
      "    @ Base ./error.jl:174\n",
      "  [2] #systemerror#68\n",
      "    @ ./error.jl:173 [inlined]\n",
      "  [3] systemerror\n",
      "    @ ./error.jl:173 [inlined]\n",
      "  [4] open(fname::String; lock::Bool, read::Nothing, write::Nothing, create::Nothing, truncate::Nothing, append::Nothing)\n",
      "    @ Base ./iostream.jl:293\n",
      "  [5] open\n",
      "    @ ./iostream.jl:282 [inlined]\n",
      "  [6] open(f::Base.var\"#366#367\"{Array{Float32, 3}}, args::String; kwargs::Base.Pairs{Symbol, Union{}, Tuple{}, NamedTuple{(), Tuple{}}})\n",
      "    @ Base ./io.jl:328\n",
      "  [7] open\n",
      "    @ ./io.jl:328 [inlined]\n",
      "  [8] read!\n",
      "    @ ./io.jl:446 [inlined]\n",
      "  [9] readBOV(path::String)\n",
      "    @ Main.EFIT ~/Desktop/AnisoEFITJulia/EFITModule/EFIT.jl:181\n",
      " [10] top-level scope\n",
      "    @ ~/Desktop/AnisoEFITJulia/BOVRender.ipynb:1\n",
      " [11] eval\n",
      "    @ ./boot.jl:373 [inlined]\n",
      " [12] include_string(mapexpr::typeof(REPL.softscope), mod::Module, code::String, filename::String)\n",
      "    @ Base ./loading.jl:1196\n",
      " [13] #invokelatest#2\n",
      "    @ ./essentials.jl:716 [inlined]\n",
      " [14] invokelatest\n",
      "    @ ./essentials.jl:714 [inlined]\n",
      " [15] (::VSCodeServer.var\"#164#165\"{VSCodeServer.NotebookRunCellArguments, String})()\n",
      "    @ VSCodeServer ~/.vscode/extensions/julialang.language-julia-1.6.17/scripts/packages/VSCodeServer/src/serve_notebook.jl:19\n",
      " [16] withpath(f::VSCodeServer.var\"#164#165\"{VSCodeServer.NotebookRunCellArguments, String}, path::String)\n",
      "    @ VSCodeServer ~/.vscode/extensions/julialang.language-julia-1.6.17/scripts/packages/VSCodeServer/src/repl.jl:184\n",
      " [17] notebook_runcell_request(conn::VSCodeServer.JSONRPC.JSONRPCEndpoint{Base.PipeEndpoint, Base.PipeEndpoint}, params::VSCodeServer.NotebookRunCellArguments)\n",
      "    @ VSCodeServer ~/.vscode/extensions/julialang.language-julia-1.6.17/scripts/packages/VSCodeServer/src/serve_notebook.jl:13\n",
      " [18] dispatch_msg(x::VSCodeServer.JSONRPC.JSONRPCEndpoint{Base.PipeEndpoint, Base.PipeEndpoint}, dispatcher::VSCodeServer.JSONRPC.MsgDispatcher, msg::Dict{String, Any})\n",
      "    @ VSCodeServer.JSONRPC ~/.vscode/extensions/julialang.language-julia-1.6.17/scripts/packages/JSONRPC/src/typed.jl:67\n",
      " [19] serve_notebook(pipename::String, outputchannel_logger::Base.CoreLogging.SimpleLogger; crashreporting_pipename::String)\n",
      "    @ VSCodeServer ~/.vscode/extensions/julialang.language-julia-1.6.17/scripts/packages/VSCodeServer/src/serve_notebook.jl:136\n",
      " [20] top-level scope\n",
      "    @ ~/.vscode/extensions/julialang.language-julia-1.6.17/scripts/notebook/notebook.jl:32\n",
      " [21] include(mod::Module, _path::String)\n",
      "    @ Base ./Base.jl:418\n",
      " [22] exec_options(opts::Base.JLOptions)\n",
      "    @ Base ./client.jl:292\n",
      " [23] _start()\n",
      "    @ Base ./client.jl:495"
     ]
    }
   ],
   "metadata": {}
  },
  {
   "cell_type": "markdown",
   "source": [
    "# 2D Slices"
   ],
   "metadata": {}
  },
  {
   "cell_type": "markdown",
   "source": [
    "## X Slice"
   ],
   "metadata": {}
  },
  {
   "cell_type": "code",
   "execution_count": 4,
   "source": [
    "depth = 217\r\n",
    "data = Main.EFIT.readBOV(bovs[1]);\r\n",
    "fig,ax,plt = heatmap(data[depth,:,:],colorrange = (0, 0.01),colormap=:curl)\r\n",
    "record(fig, \"Animation_XSlice.mp4\", bovs; framerate = 30) do path\r\n",
    "    Main.EFIT.readBOV!(data, path)\r\n",
    "    plt.heatmap = data[depth,:,:]\r\n",
    "end"
   ],
   "outputs": [
    {
     "output_type": "execute_result",
     "data": {
      "text/plain": [
       "\"Animation_XSlice.mp4\""
      ]
     },
     "metadata": {},
     "execution_count": 4
    }
   ],
   "metadata": {}
  },
  {
   "cell_type": "markdown",
   "source": [
    "# Composite"
   ],
   "metadata": {}
  },
  {
   "cell_type": "code",
   "execution_count": 28,
   "source": [
    "xDepth = 217\r\n",
    "yDepth = 177\r\n",
    "zDepth = 358\r\n",
    "\r\n",
    "data = Main.EFIT.readBOV(bovs[1]);\r\n",
    "\r\n",
    "fig,ax,plt = volume(data,algorithm=:mip,colorrange = (0, 0.01),colormap=:curl, transparency=true)\r\n",
    "\r\n",
    "record(fig, \"Animation_Composite.mp4\", bovs; framerate = 30) do path\r\n",
    "    Main.EFIT.readBOV!(data, path)\r\n",
    "    plt.data = data\r\n",
    "\r\n",
    "end"
   ],
   "outputs": [
    {
     "output_type": "execute_result",
     "data": {
      "text/plain": [
       "\"Animation_Composite.mp4\""
      ]
     },
     "metadata": {},
     "execution_count": 28
    }
   ],
   "metadata": {}
  }
 ],
 "metadata": {
  "kernelspec": {
   "display_name": "Julia 1.7.2",
   "language": "julia",
   "name": "julia-1.7"
  },
  "language_info": {
   "file_extension": ".jl",
   "mimetype": "application/julia",
   "name": "julia",
   "version": "1.7.2"
  },
  "orig_nbformat": 4
 },
 "nbformat": 4,
 "nbformat_minor": 2
}