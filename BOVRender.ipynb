{
 "cells": [
  {
   "cell_type": "code",
   "execution_count": 1,
   "metadata": {},
   "outputs": [
    {
     "data": {
      "text/plain": [
       "Main.EFIT"
      ]
     },
     "metadata": {},
     "output_type": "display_data"
    }
   ],
   "source": [
    "using GLMakie\n",
    "using Revise\n",
    "include(\"EFITModule/EFIT.jl\")\n"
   ]
  },
  {
   "cell_type": "code",
   "execution_count": 20,
   "metadata": {},
   "outputs": [
    {
     "data": {
      "text/plain": [
       "1001-element Vector{String}:\n",
       " \"DataDownsampled-10.bin\"\n",
       " \"DataDownsampled-10.bov\"\n",
       " \"DataDownsampled-100.bin\"\n",
       " \"DataDownsampled-100.bov\"\n",
       " \"DataDownsampled-1000.bin\"\n",
       " \"DataDownsampled-1000.bov\"\n",
       " \"DataDownsampled-1010.bin\"\n",
       " \"DataDownsampled-1010.bov\"\n",
       " \"DataDownsampled-1020.bin\"\n",
       " \"DataDownsampled-1020.bov\"\n",
       " ⋮\n",
       " \"DataDownsampled-960.bin\"\n",
       " \"DataDownsampled-960.bov\"\n",
       " \"DataDownsampled-970.bin\"\n",
       " \"DataDownsampled-970.bov\"\n",
       " \"DataDownsampled-980.bin\"\n",
       " \"DataDownsampled-980.bov\"\n",
       " \"DataDownsampled-990.bin\"\n",
       " \"DataDownsampled-990.bov\"\n",
       " \"RWTest.txt\""
      ]
     },
     "metadata": {},
     "output_type": "display_data"
    }
   ],
   "source": [
    "readdir(\"/media/data/2022 Data/RailTest_2,5MHz_3_May/\")"
   ]
  },
  {
   "cell_type": "markdown",
   "metadata": {},
   "source": [
    "# Initialize files"
   ]
  },
  {
   "cell_type": "code",
   "execution_count": 23,
   "metadata": {},
   "outputs": [
    {
     "ename": "ErrorException",
     "evalue": "syntax: invalid escape sequence",
     "output_type": "error",
     "traceback": [
      "syntax: invalid escape sequence\n",
      "\n",
      "Stacktrace:\n",
      "  [1] top-level scope\n",
      "    @ ~/Desktop/AnisoEFITJulia/BOVRender.ipynb:2\n",
      "  [2] eval\n",
      "    @ ./boot.jl:373 [inlined]\n",
      "  [3] include_string(mapexpr::typeof(REPL.softscope), mod::Module, code::String, filename::String)\n",
      "    @ Base ./loading.jl:1196\n",
      "  [4] #invokelatest#2\n",
      "    @ ./essentials.jl:716 [inlined]\n",
      "  [5] invokelatest\n",
      "    @ ./essentials.jl:714 [inlined]\n",
      "  [6] (::VSCodeServer.var\"#164#165\"{VSCodeServer.NotebookRunCellArguments, String})()\n",
      "    @ VSCodeServer ~/.vscode/extensions/julialang.language-julia-1.6.17/scripts/packages/VSCodeServer/src/serve_notebook.jl:19\n",
      "  [7] withpath(f::VSCodeServer.var\"#164#165\"{VSCodeServer.NotebookRunCellArguments, String}, path::String)\n",
      "    @ VSCodeServer ~/.vscode/extensions/julialang.language-julia-1.6.17/scripts/packages/VSCodeServer/src/repl.jl:184\n",
      "  [8] notebook_runcell_request(conn::VSCodeServer.JSONRPC.JSONRPCEndpoint{Base.PipeEndpoint, Base.PipeEndpoint}, params::VSCodeServer.NotebookRunCellArguments)\n",
      "    @ VSCodeServer ~/.vscode/extensions/julialang.language-julia-1.6.17/scripts/packages/VSCodeServer/src/serve_notebook.jl:13\n",
      "  [9] dispatch_msg(x::VSCodeServer.JSONRPC.JSONRPCEndpoint{Base.PipeEndpoint, Base.PipeEndpoint}, dispatcher::VSCodeServer.JSONRPC.MsgDispatcher, msg::Dict{String, Any})\n",
      "    @ VSCodeServer.JSONRPC ~/.vscode/extensions/julialang.language-julia-1.6.17/scripts/packages/JSONRPC/src/typed.jl:67\n",
      " [10] serve_notebook(pipename::String, outputchannel_logger::Base.CoreLogging.SimpleLogger; crashreporting_pipename::String)\n",
      "    @ VSCodeServer ~/.vscode/extensions/julialang.language-julia-1.6.17/scripts/packages/VSCodeServer/src/serve_notebook.jl:136\n",
      " [11] top-level scope\n",
      "    @ ~/.vscode/extensions/julialang.language-julia-1.6.17/scripts/notebook/notebook.jl:32\n",
      " [12] include(mod::Module, _path::String)\n",
      "    @ Base ./Base.jl:418\n",
      " [13] exec_options(opts::Base.JLOptions)\n",
      "    @ Base ./client.jl:292\n",
      " [14] _start()\n",
      "    @ Base ./client.jl:495"
     ]
    }
   ],
   "source": [
    "bovs = Vector{String}()\n",
    "dir = \"/media/data/2022 Data/RailTest_2,5MHz_3_May/\"\n",
    "for f in readdir(dir)\n",
    "    fname, ftype = split(f,\".\")\n",
    "    if ftype == \"bov\"\n",
    "        push!(bovs,\"$dir/$f\")\n",
    "    end\n",
    "end\n",
    "data = Main.EFIT.readBOV(bovs[1]);\n",
    "print(size(data))"
   ]
  },
  {
   "cell_type": "markdown",
   "metadata": {},
   "source": [
    "# Volumetric animation"
   ]
  },
  {
   "cell_type": "code",
   "execution_count": 3,
   "metadata": {},
   "outputs": [
    {
     "ename": "SystemError",
     "evalue": "SystemError: opening file \"mediadata2022 DataRailTest_2,5MHz_3_May/DataDownsampled-10.bin\": No such file or directory",
     "output_type": "error",
     "traceback": [
      "SystemError: opening file \"mediadata2022 DataRailTest_2,5MHz_3_May/DataDownsampled-10.bin\": No such file or directory\n",
      "\n",
      "Stacktrace:\n",
      "  [1] systemerror(p::String, errno::Int32; extrainfo::Nothing)\n",
      "    @ Base ./error.jl:174\n",
      "  [2] #systemerror#68\n",
      "    @ ./error.jl:173 [inlined]\n",
      "  [3] systemerror\n",
      "    @ ./error.jl:173 [inlined]\n",
      "  [4] open(fname::String; lock::Bool, read::Nothing, write::Nothing, create::Nothing, truncate::Nothing, append::Nothing)\n",
      "    @ Base ./iostream.jl:293\n",
      "  [5] open\n",
      "    @ ./iostream.jl:282 [inlined]\n",
      "  [6] open(f::Base.var\"#366#367\"{Array{Float32, 3}}, args::String; kwargs::Base.Pairs{Symbol, Union{}, Tuple{}, NamedTuple{(), Tuple{}}})\n",
      "    @ Base ./io.jl:328\n",
      "  [7] open\n",
      "    @ ./io.jl:328 [inlined]\n",
      "  [8] read!\n",
      "    @ ./io.jl:446 [inlined]\n",
      "  [9] readBOV(path::String)\n",
      "    @ Main.EFIT ~/Desktop/AnisoEFITJulia/EFITModule/EFIT.jl:181\n",
      " [10] top-level scope\n",
      "    @ ~/Desktop/AnisoEFITJulia/BOVRender.ipynb:1\n",
      " [11] eval\n",
      "    @ ./boot.jl:373 [inlined]\n",
      " [12] include_string(mapexpr::typeof(REPL.softscope), mod::Module, code::String, filename::String)\n",
      "    @ Base ./loading.jl:1196\n",
      " [13] #invokelatest#2\n",
      "    @ ./essentials.jl:716 [inlined]\n",
      " [14] invokelatest\n",
      "    @ ./essentials.jl:714 [inlined]\n",
      " [15] (::VSCodeServer.var\"#164#165\"{VSCodeServer.NotebookRunCellArguments, String})()\n",
      "    @ VSCodeServer ~/.vscode/extensions/julialang.language-julia-1.6.17/scripts/packages/VSCodeServer/src/serve_notebook.jl:19\n",
      " [16] withpath(f::VSCodeServer.var\"#164#165\"{VSCodeServer.NotebookRunCellArguments, String}, path::String)\n",
      "    @ VSCodeServer ~/.vscode/extensions/julialang.language-julia-1.6.17/scripts/packages/VSCodeServer/src/repl.jl:184\n",
      " [17] notebook_runcell_request(conn::VSCodeServer.JSONRPC.JSONRPCEndpoint{Base.PipeEndpoint, Base.PipeEndpoint}, params::VSCodeServer.NotebookRunCellArguments)\n",
      "    @ VSCodeServer ~/.vscode/extensions/julialang.language-julia-1.6.17/scripts/packages/VSCodeServer/src/serve_notebook.jl:13\n",
      " [18] dispatch_msg(x::VSCodeServer.JSONRPC.JSONRPCEndpoint{Base.PipeEndpoint, Base.PipeEndpoint}, dispatcher::VSCodeServer.JSONRPC.MsgDispatcher, msg::Dict{String, Any})\n",
      "    @ VSCodeServer.JSONRPC ~/.vscode/extensions/julialang.language-julia-1.6.17/scripts/packages/JSONRPC/src/typed.jl:67\n",
      " [19] serve_notebook(pipename::String, outputchannel_logger::Base.CoreLogging.SimpleLogger; crashreporting_pipename::String)\n",
      "    @ VSCodeServer ~/.vscode/extensions/julialang.language-julia-1.6.17/scripts/packages/VSCodeServer/src/serve_notebook.jl:136\n",
      " [20] top-level scope\n",
      "    @ ~/.vscode/extensions/julialang.language-julia-1.6.17/scripts/notebook/notebook.jl:32\n",
      " [21] include(mod::Module, _path::String)\n",
      "    @ Base ./Base.jl:418\n",
      " [22] exec_options(opts::Base.JLOptions)\n",
      "    @ Base ./client.jl:292\n",
      " [23] _start()\n",
      "    @ Base ./client.jl:495"
     ]
    }
   ],
   "source": [
    "data = Main.EFIT.readBOV(bovs[1]);\n",
    "fig,ax,plt = volume(data,algorithm=:mip,colorrange = (0, 0.01),colormap=:curl, transparency=true)\n",
    "record(fig, \"Animation_Volume.mp4\", bovs; framerate = 30) do path\n",
    "    Main.EFIT.readBOV!(data, path)\n",
    "    plt.volume = data\n",
    "end"
   ]
  },
  {
   "cell_type": "markdown",
   "metadata": {},
   "source": [
    "# 2D Slices"
   ]
  },
  {
   "cell_type": "markdown",
   "metadata": {},
   "source": [
    "## X Slice"
   ]
  },
  {
   "cell_type": "code",
   "execution_count": 4,
   "metadata": {},
   "outputs": [
    {
     "data": {
      "text/plain": [
       "\"Animation_XSlice.mp4\""
      ]
     },
     "execution_count": 4,
     "metadata": {},
     "output_type": "execute_result"
    }
   ],
   "source": [
    "depth = 217\n",
    "data = Main.EFIT.readBOV(bovs[1]);\n",
    "fig,ax,plt = heatmap(data[depth,:,:],colorrange = (0, 0.01),colormap=:curl)\n",
    "record(fig, \"Animation_XSlice.mp4\", bovs; framerate = 30) do path\n",
    "    Main.EFIT.readBOV!(data, path)\n",
    "    plt.heatmap = data[depth,:,:]\n",
    "end"
   ]
  },
  {
   "cell_type": "markdown",
   "metadata": {},
   "source": [
    "# Composite"
   ]
  },
  {
   "cell_type": "code",
   "execution_count": 20,
   "metadata": {},
   "outputs": [
    {
     "data": {
      "text/plain": [
       "\"Animation_Composite.mp4\""
      ]
     },
     "execution_count": 20,
     "metadata": {},
     "output_type": "execute_result"
    }
   ],
   "source": [
    "xDepth = 217\n",
    "yDepth = 177\n",
    "zDepth = 358\n",
    "\n",
    "data = Main.EFIT.readBOV(bovs[1]);\n",
    "\n",
    "fig = Figure()\n",
    "\n",
    "lscene = LScene(fig[1, 1], scenekw = (camera = cam3d!, raw = false))\n",
    "\n",
    "fig[1,2] = Axis(fig, title = \"X Slice\")\n",
    "fig[2,1] = Axis(fig, title = \"Y Slice\")\n",
    "fig[2,2] = Axis(fig, title = \"Z Slice\")\n",
    "crange =(0, 0.01)\n",
    "cmap=:curl \n",
    "\n",
    "record(fig, \"Animation_Composite.mp4\", bovs; framerate = 30) do path\n",
    "    Main.EFIT.readBOV!(data, path)\n",
    "    volume!(lscene, data,algorithm=:mip,colorrange = (0, 0.01),colormap=:curl, transparency=true)\n",
    "    heatmap!(fig[1,2],data[floor(Int,end/2),:,:],colorrange = crange,colormap=cmap)\n",
    "    heatmap!(fig[2,1],data[:,floor(Int,end/2),:],colorrange = crange,colormap=cmap)\n",
    "    heatmap!(fig[2,2],data[:,:,floor(Int,end/2)],colorrange = crange,colormap=cmap)\n",
    "\n",
    "end"
   ]
  }
 ],
 "metadata": {
  "kernelspec": {
   "display_name": "Julia 1.7.2",
   "language": "julia",
   "name": "julia-1.7"
  },
  "language_info": {
   "file_extension": ".jl",
   "mimetype": "application/julia",
   "name": "julia",
   "version": "1.7.2"
  },
  "orig_nbformat": 4
 },
 "nbformat": 4,
 "nbformat_minor": 2
}
