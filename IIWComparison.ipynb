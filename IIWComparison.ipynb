{
 "cells": [
  {
   "cell_type": "code",
   "execution_count": 1,
   "source": [
    "using Revise\r\n",
    "using GLMakie\r\n",
    "include(\"EFITModule/EFIT.jl\")\r\n",
    "using NPZ"
   ],
   "outputs": [],
   "metadata": {}
  },
  {
   "cell_type": "code",
   "execution_count": 2,
   "source": [
    "using ParallelStencil\r\n",
    "using ParallelStencil.FiniteDifferences3D\r\n",
    "using GLMakie\r\n",
    "\r\n",
    "ParallelStencil.@reset_parallel_stencil()\r\n",
    "USE_GPU = false\r\n",
    "@static if USE_GPU\r\n",
    "    @init_parallel_stencil(CUDA, Float32, 3)\r\n",
    "else\r\n",
    "    @init_parallel_stencil(Threads, Float32, 3)\r\n",
    "end"
   ],
   "outputs": [],
   "metadata": {}
  },
  {
   "cell_type": "code",
   "execution_count": 14,
   "source": [
    "matGrid = npzread(\"MeshFiles/IIWMini225.npy\")[:,:,1:160].+1\r\n",
    "#Pad edges\r\n",
    "th=2\r\n",
    "matGrid[1:th,:,:] .=1\r\n",
    "matGrid[end:end-th,:,:] .=1\r\n",
    "matGrid[:,1:th,:].=1\r\n",
    "matGrid[:,end:end-th,:].=1\r\n",
    "matGrid[:,:,1:th].=1\r\n",
    "matGrid[:,:,end:end-th].=1\r\n",
    "\r\n",
    "#Sound speed in the model\r\n",
    "cMax = 5918\r\n",
    "cMin = 3225\r\n",
    "#Frequency, hz\r\n",
    "f0=2.25e6\r\n",
    "\r\n",
    "dx = cMin/(8*f0)\r\n",
    "dt = dx/(cMax*sqrt(3))\r\n"
   ],
   "outputs": [
    {
     "output_type": "execute_result",
     "data": {
      "text/plain": [
       "1.7479202979014526e-8"
      ]
     },
     "metadata": {},
     "execution_count": 14
    }
   ],
   "metadata": {}
  },
  {
   "cell_type": "code",
   "execution_count": 15,
   "source": [
    "display(volume(matGrid.-1))"
   ],
   "outputs": [
    {
     "output_type": "execute_result",
     "data": {
      "text/plain": [
       "GLMakie.Screen(...)"
      ]
     },
     "metadata": {},
     "execution_count": 15
    }
   ],
   "metadata": {}
  },
  {
   "cell_type": "code",
   "execution_count": 16,
   "source": [
    "materials = [Main.EFIT.IsoMat(0,0,1e-10), Main.EFIT.IsoMats[\"AISI1018\"]]"
   ],
   "outputs": [
    {
     "output_type": "execute_result",
     "data": {
      "text/plain": [
       "2-element Vector{Main.EFIT.IsoMat}:\n",
       " Main.EFIT.IsoMat(1.0f-10, 0.0f0, 0.0f0, 0.0f0)\n",
       " Main.EFIT.IsoMat(7870.0f0, 1.11923f11, 8.1852916f10, 2.7562885f11)"
      ]
     },
     "metadata": {},
     "execution_count": 16
    }
   ],
   "metadata": {}
  },
  {
   "cell_type": "code",
   "execution_count": 17,
   "source": [
    "grid = Main.EFIT.EFITGrid(Int16.(matGrid),materials,dt,dx);\r\n",
    "\r\n",
    "sourcePositions = [(0.001,0.11,0.0125)]\r\n",
    "sIdx = 1\r\n",
    "\r\n",
    "pos = round.(Integer,sourcePositions[sIdx]./dx)\r\n",
    "\r\n",
    "nframes = 1500\r\n",
    "framerate = 30\r\n",
    "\r\n",
    "tIterator = 0:grid.dt:grid.dt*nframes\r\n",
    "aValues = Array{Float32,1}()\r\n",
    "push!(aValues,0.0)\r\n",
    "\r\n",
    "fig = Figure(resolution=(1920,1080))\r\n",
    "lscene = LScene(fig[1,1])\r\n",
    "fig[1,2] = Axis(fig[1,2],title=\"A-Scan\", ylabel=\"Velocity Magnitude\",xlabel=\"Iterations\")\r\n",
    "plt = volume!(lscene, Array(grid.vx),algorithm=:mip,colorrange = (0.0001, 0.1),colormap=:curl, transparency=true)\r\n",
    "ascan = lines!(fig[1,2],zeros(size(tIterator,1)).+0.1)\r\n",
    "\r\n",
    "#Step the simulation\r\n",
    "function stepSim(t)\r\n",
    "    #Isotropic step function\r\n",
    "    Main.EFIT.SimStep!(grid)\r\n",
    "\r\n",
    "    Main.EFIT.applyShapedSource!(grid, pos, (2,3),t,sourceParams=(f0),shape=(10,10),θ=-36,ϕ=0,c=cMax)\r\n",
    "    velMag = sqrt.(grid.vx.^2 .+ grid.vy.^2 .+ grid.vz.^2)\r\n",
    "    plt.volume = velMag\r\n",
    "    push!(aValues,velMag[pos[1],pos[2],pos[3]])\r\n",
    "    ascan[1] = aValues\r\n",
    "\r\n",
    "end\r\n",
    "\r\n",
    "record(stepSim, fig, \"color_animation.mp4\", tIterator; framerate = 30)"
   ],
   "outputs": [],
   "metadata": {}
  }
 ],
 "metadata": {
  "kernelspec": {
   "display_name": "Julia 1.7.2",
   "language": "julia",
   "name": "julia-1.7"
  },
  "language_info": {
   "file_extension": ".jl",
   "mimetype": "application/julia",
   "name": "julia",
   "version": "1.7.2"
  },
  "orig_nbformat": 4
 },
 "nbformat": 4,
 "nbformat_minor": 2
}