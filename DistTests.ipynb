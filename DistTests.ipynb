{
 "cells": [
  {
   "cell_type": "code",
   "execution_count": 33,
   "source": [
    "using Revise\r\n",
    "using Distributed\r\n",
    "#addprocs(4)"
   ],
   "outputs": [
    {
     "output_type": "execute_result",
     "data": {
      "text/plain": [
       "4-element Vector{Int64}:\n",
       " 6\n",
       " 7\n",
       " 8\n",
       " 9"
      ]
     },
     "metadata": {},
     "execution_count": 33
    }
   ],
   "metadata": {}
  },
  {
   "cell_type": "code",
   "execution_count": 34,
   "source": [
    "vars = zeros(Float32,2,2,2)\r\n",
    "vars5d = zeros(Float32,2,2,2,2,2)\r\n",
    "\r\n",
    "B = CartesianIndex((1,2,3))\r\n",
    "@sync @distributed for I in CartesianIndices(vars)\r\n",
    "        C=I+B\r\n",
    "        println(\"I'm worker $(myid()), working on I=$C\")\r\n",
    "end\r\n",
    "print(\"Done\")"
   ],
   "outputs": [
    {
     "output_type": "stream",
     "name": "stdout",
     "text": [
      "      From worker 5:\tI'm worker 5, working on I=CartesianIndex(2, 4, 4)\n",
      "      From worker 4:\tI'm worker 4, working on I=CartesianIndex(3, 3, 4)\n",
      "      From worker 3:\tI'm worker 3, working on I=CartesianIndex(2, 3, 4)\n",
      "      From worker 2:\tI'm worker 2, working on I=CartesianIndex(3, 4, 5)\n",
      "      From worker 8:\tI'm worker 8, working on I=CartesianIndex(3, 3, 5)\n",
      "      From worker 7:\tI'm worker 7, working on I=CartesianIndex(2, 3, 5)\n",
      "      From worker 9:\tI'm worker 9, working on I=CartesianIndex(2, 4, 5)\n",
      "      From worker 6:\tI'm worker 6, working on I=CartesianIndex(3, 4, 4)\n",
      "Done"
     ]
    }
   ],
   "metadata": {}
  },
  {
   "cell_type": "code",
   "execution_count": null,
   "source": [
    "vars = zeros(Float32,2,2,2)\r\n",
    "vars5d = zeros(Float32,2,2,2,2,2)\r\n",
    "\r\n",
    "B = CartesianIndex((1,2,3))\r\n",
    "for I in CartesianIndices(vars)\r\n",
    "        vars5d[I,2,2]\r\n",
    "\r\n",
    "end\r\n",
    "print(\"Done\")"
   ],
   "outputs": [
    {
     "output_type": "stream",
     "name": "stdout",
     "text": [
      "Done"
     ]
    }
   ],
   "metadata": {}
  },
  {
   "cell_type": "code",
   "execution_count": null,
   "source": [
    "CartesianIndices((2:grid.xSize-1,2:grid.ySize-1,2:grid.zSize-1))"
   ],
   "outputs": [
    {
     "output_type": "error",
     "ename": "LoadError",
     "evalue": "UndefVarError: grid not defined",
     "traceback": [
      "UndefVarError: grid not defined",
      "",
      "Stacktrace:",
      " [1] top-level scope",
      "   @ In[32]:1",
      " [2] eval",
      "   @ .\\boot.jl:373 [inlined]",
      " [3] include_string(mapexpr::typeof(REPL.softscope), mod::Module, code::String, filename::String)",
      "   @ Base .\\loading.jl:1196"
     ]
    }
   ],
   "metadata": {}
  }
 ],
 "metadata": {
  "orig_nbformat": 4,
  "language_info": {
   "file_extension": ".jl",
   "name": "julia",
   "mimetype": "application/julia",
   "version": "1.7.2"
  },
  "kernelspec": {
   "name": "julia-1.7",
   "display_name": "Julia 1.7.2",
   "language": "julia"
  }
 },
 "nbformat": 4,
 "nbformat_minor": 2
}